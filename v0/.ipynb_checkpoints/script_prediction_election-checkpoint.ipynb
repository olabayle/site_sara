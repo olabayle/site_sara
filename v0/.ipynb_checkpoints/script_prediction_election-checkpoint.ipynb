{
 "cells": [
  {
   "cell_type": "code",
   "execution_count": 1,
   "metadata": {
    "collapsed": false
   },
   "outputs": [],
   "source": [
    "#package langue\n",
    "import nltk\n",
    "import re\n",
    "from nltk.corpus import stopwords\n",
    "import math\n",
    "\n",
    "from string import punctuation\n",
    "from collections import Counter"
   ]
  },
  {
   "cell_type": "code",
   "execution_count": 64,
   "metadata": {
    "collapsed": false
   },
   "outputs": [],
   "source": [
    "import json\n",
    "import pandas as pd\n",
    "import numpy as np\n",
    "import matplotlib.pyplot as plt\n",
    "from wordcloud import WordCloud, STOPWORDS\n",
    "import plotly.plotly as py\n",
    "from pylab import savefig\n",
    "%matplotlib inline"
   ]
  },
  {
   "cell_type": "markdown",
   "metadata": {
    "collapsed": true
   },
   "source": [
    "python twitter_streaming.py > twitter_data.txt"
   ]
  },
  {
   "cell_type": "markdown",
   "metadata": {
    "collapsed": false
   },
   "source": [
    "## Fonctions de traitement"
   ]
  },
  {
   "cell_type": "markdown",
   "metadata": {},
   "source": [
    "### Texte"
   ]
  },
  {
   "cell_type": "code",
   "execution_count": 3,
   "metadata": {
    "collapsed": true
   },
   "outputs": [],
   "source": [
    "def lower(tweet):\n",
    "    return tweet.lower()"
   ]
  },
  {
   "cell_type": "code",
   "execution_count": 4,
   "metadata": {
    "collapsed": true
   },
   "outputs": [],
   "source": [
    "def retrait_url(tweet):\n",
    "    p = re.compile('http.*? ')\n",
    "    if p.search(tweet) :\n",
    "        result=p.search(tweet).group()\n",
    "        tweet=tweet.replace(result,'')\n",
    "    p = re.compile('http(.)*')\n",
    "    if p.search(tweet) :\n",
    "        result=p.search(tweet).group()\n",
    "        tweet=tweet.replace(result,'')\n",
    "    return tweet"
   ]
  },
  {
   "cell_type": "code",
   "execution_count": 5,
   "metadata": {
    "collapsed": true
   },
   "outputs": [],
   "source": [
    "def accents(tweet):\n",
    "    a=['à','â']\n",
    "    c=['ç']\n",
    "    e=['é','è','ê','ë']\n",
    "    i=['î','ï']\n",
    "    o=['ô']\n",
    "    u=['û','ù']\n",
    "    for lettre in a:\n",
    "        tweet=tweet.replace(lettre,'a')\n",
    "    for lettre in c:\n",
    "        tweet=tweet.replace(lettre,'c')\n",
    "    for lettre in e:\n",
    "        tweet=tweet.replace(lettre,'e')\n",
    "    for lettre in i:\n",
    "        tweet=tweet.replace(lettre,'i')\n",
    "    for lettre in o:\n",
    "        tweet=tweet.replace(lettre,'o')\n",
    "    for lettre in u:\n",
    "        tweet=tweet.replace(lettre,'u')\n",
    "    return tweet"
   ]
  },
  {
   "cell_type": "code",
   "execution_count": 6,
   "metadata": {
    "collapsed": true
   },
   "outputs": [],
   "source": [
    "def retrait_chiffre(tweet):\n",
    "    chiffres=['0','1','2','3','4','5','6','7','8','9']\n",
    "    for i in chiffres:\n",
    "        tweet=tweet.replace(i,'')\n",
    "    return tweet"
   ]
  },
  {
   "cell_type": "code",
   "execution_count": 7,
   "metadata": {
    "collapsed": true
   },
   "outputs": [],
   "source": [
    "def separation_mots(tweet):\n",
    "    tweet=tweet.replace('le pen','lepen')\n",
    "    return tweet.split(' ')"
   ]
  },
  {
   "cell_type": "code",
   "execution_count": 8,
   "metadata": {
    "collapsed": true
   },
   "outputs": [],
   "source": [
    "def retrait_espace(tweet):\n",
    "    tweet = [word for word in tweet if word !='']\n",
    "    return tweet"
   ]
  },
  {
   "cell_type": "code",
   "execution_count": 9,
   "metadata": {
    "collapsed": true
   },
   "outputs": [],
   "source": [
    "def retrait_stopwords(tweet):\n",
    "    stopwords = ['alors','au','aux','aucuns','aussi','autre','avant','avec','avoir','bon','ca','car','ce','cela','ces','ceux','chaque','ci','comme','comment','dans','des','du','dedans','dehors','depuis','devrait','doit','donc','dos','debut','elle','elles','en','encore','essai','est','et','eu','fait','faites','fois','font','hors','ici','il','ils','je','la','le','les','leur','ma','maintenant','mais','mes','mine','moins','mon','mot','meme','ni','nommes','notre','nous','ou','par','parce','pas','peut','peu','plupart','pour','pourquoi','quand','que','quel','quelle','quelles','quels','qui','sa','sans','ses','seulement','si','sien','son','sont','sous','soyez','sur','ta','tandis','tellement','tels','tes','ton','tous','tout','trop','tres','tu','voient','vont','votre','vous','vu','etaient','etat','etions','ete','etre','rt']\n",
    "    tweet = [word for word in tweet if word not in stopwords]\n",
    "    return tweet"
   ]
  },
  {
   "cell_type": "code",
   "execution_count": 10,
   "metadata": {
    "collapsed": true
   },
   "outputs": [],
   "source": [
    "from nltk.stem.snowball import FrenchStemmer\n",
    "stemmer = FrenchStemmer()\n",
    "\n",
    "def lemmatisation(tweet):\n",
    "    for word in tweet :\n",
    "        word = stemmer.stem(word)     \n",
    "    return tweet"
   ]
  },
  {
   "cell_type": "code",
   "execution_count": 11,
   "metadata": {
    "collapsed": true
   },
   "outputs": [],
   "source": [
    "def retrait_ponctuation(tweet, punctuation_list):\n",
    "    for p in punctuation_list:\n",
    "        tweet=tweet.replace(p,' ')\n",
    "    tweet=tweet.replace('…','')\n",
    "    tweet=tweet.replace('\\n','')\n",
    "    return tweet"
   ]
  },
  {
   "cell_type": "code",
   "execution_count": 12,
   "metadata": {
    "collapsed": false,
    "scrolled": true
   },
   "outputs": [],
   "source": [
    "def process_text(row):\n",
    "    processed_tweet = lower(row['text'])\n",
    "    processed_tweet = retrait_url(processed_tweet)\n",
    "    processed_tweet = accents(processed_tweet)\n",
    "    processed_tweet = retrait_chiffre(processed_tweet)\n",
    "    processed_tweet = retrait_ponctuation(processed_tweet, list(punctuation))\n",
    "    processed_tweet = separation_mots(processed_tweet)\n",
    "    processed_tweet = retrait_espace(processed_tweet)\n",
    "    processed_tweet = retrait_stopwords(processed_tweet)\n",
    "    processed_tweet = lemmatisation(processed_tweet)\n",
    "    return processed_tweet"
   ]
  },
  {
   "cell_type": "markdown",
   "metadata": {},
   "source": [
    "### Ville"
   ]
  },
  {
   "cell_type": "code",
   "execution_count": 13,
   "metadata": {
    "collapsed": false
   },
   "outputs": [],
   "source": [
    "def ville(tweet):\n",
    "    top_ville=['paris','marseille','lyon','toulouse','nice','nantes','strasbourg','montpellier','bordeaux','lille']\n",
    "    result=' '\n",
    "    for ville in top_ville:\n",
    "        p = re.compile(ville)\n",
    "        if p.search(tweet) :\n",
    "            result=p.search(tweet).group()\n",
    "    return result"
   ]
  },
  {
   "cell_type": "markdown",
   "metadata": {},
   "source": [
    "### Source"
   ]
  },
  {
   "cell_type": "code",
   "execution_count": 14,
   "metadata": {
    "collapsed": true
   },
   "outputs": [],
   "source": [
    "def retrait_balise(tweet):\n",
    "    p = re.compile('</a>')\n",
    "    if p.search(tweet) :\n",
    "        result=p.search(tweet).group()\n",
    "        tweet=tweet.replace(result,'')\n",
    "    p = re.compile('<a(.)*>')\n",
    "    if p.search(tweet) :\n",
    "        result=p.search(tweet).group()\n",
    "        tweet=tweet.replace(result,'')\n",
    "    return tweet"
   ]
  },
  {
   "cell_type": "markdown",
   "metadata": {},
   "source": [
    "### Candidats"
   ]
  },
  {
   "cell_type": "markdown",
   "metadata": {},
   "source": [
    "---\n",
    "- Francois FILLON\n",
    "- Benoit HAMON\n",
    "- Emmanuel MACRON\n",
    "- Jean-Luc MELENCHON\n",
    "- Jean LASSALLE\n",
    "- Nicolas DUPONT-AIGNAN\n",
    "- Nathalie ARTHAUD\n",
    "- Marine LEPEN\n",
    "- Francois ASSELINEAU\n",
    "- Philippe POUTOU\n",
    "- Jacques CHEMINADE\n",
    "---"
   ]
  },
  {
   "cell_type": "code",
   "execution_count": 15,
   "metadata": {
    "collapsed": true
   },
   "outputs": [],
   "source": [
    "def presence_candidats(tweet,candidat):\n",
    "    present=0\n",
    "    for element in candidat:\n",
    "        present=present + int(element in tweet)\n",
    "    if present>=1:\n",
    "        present=1\n",
    "    return present"
   ]
  },
  {
   "cell_type": "markdown",
   "metadata": {
    "collapsed": true
   },
   "source": [
    "## Execution des fonctions"
   ]
  },
  {
   "cell_type": "code",
   "execution_count": 115,
   "metadata": {
    "collapsed": true
   },
   "outputs": [],
   "source": [
    "def process_tweet(file_name):\n",
    "    tweets_data_path = '/Users/saramounir/'+file_name+'.txt'\n",
    "\n",
    "    tweets_data = []\n",
    "    tweets_file = open(tweets_data_path, \"r\")\n",
    "    for line in tweets_file:\n",
    "        try:\n",
    "            tweet = json.loads(line)\n",
    "            if 'text' in tweet.keys() : \n",
    "                tweets_data.append(tweet)\n",
    "        except:\n",
    "            continue\n",
    "    \n",
    "    tweets = pd.DataFrame()\n",
    "    \n",
    "    tweets['text'] = list(map(lambda tweet: tweet['text'], tweets_data))\n",
    "    tweets['date'] = list(map(lambda tweet: tweet['created_at'], tweets_data))\n",
    "    tweets['lang'] = list(map(lambda tweet: tweet['lang'], tweets_data))\n",
    "    tweets['country'] = list(map(lambda tweet: tweet['user']['location'] if tweet['user']['location'] != None else None, tweets_data))\n",
    "    tweets['user_name'] = list(map(lambda tweet: tweet['user']['name'] if tweet['user']['name'] != None else None, tweets_data))\n",
    "    tweets['description_user'] = list(map(lambda tweet: tweet['user']['description'] if tweet['user']['description'] != None else None, tweets_data))\n",
    "    tweets['source'] = list(map(lambda tweet: tweet['source'], tweets_data))\n",
    "    \n",
    "    tweets['nb_@']=tweets['text'].apply(lambda x : x.count('@'))\n",
    "    tweets['nb_rt']=tweets['text'].apply(lambda x : x.count('RT'))\n",
    "    tweets['text'] = tweets.apply(process_text, axis = 1)\n",
    "    \n",
    "    tweets['country']=tweets['country'].fillna(' ')\n",
    "    tweets['country'] = tweets['country'].apply(lower)\n",
    "    \n",
    "    tweets['ville'] = tweets['country'].apply(ville)\n",
    "    \n",
    "    tweets['source'] = tweets['source'].apply(retrait_balise)\n",
    "    \n",
    "    asselineau=['asselineau','francoisasselineau']\n",
    "    arthaud=['arthaud','nathaliearthaud']\n",
    "    cheminade=['cheminade','jacquescheminade']\n",
    "    dupontaignan=['dupontaignan','nicolasdupontaignan','nda']\n",
    "    fillon=['fillon','fillongate','francoisfillon','tousfillon','jevotefillon']\n",
    "    hamon=['benoithamon','jeunesavechamon','hamon']\n",
    "    lassalle=['jeanlassalle','lassalle']\n",
    "    lepen=['lepen','mlp','lafrancevotemarine','lepengate','marine','marinelepen','fn']\n",
    "    macron=['macron','emmanuelmacron']\n",
    "    melenchon=['jlmelenchon','melenchon','jlm','jeanlucmelenchon']\n",
    "    poutou=['poutou','philippepoutou']\n",
    "    \n",
    "    tweets['asselineau'] = tweets['text'].apply(lambda line: presence_candidats(line,asselineau))\n",
    "    tweets['arthaud'] = tweets['text'].apply(lambda line: presence_candidats(line,arthaud))\n",
    "    tweets['cheminade'] = tweets['text'].apply(lambda line: presence_candidats(line,cheminade))\n",
    "    tweets['dupontaignan'] = tweets['text'].apply(lambda line: presence_candidats(line,dupontaignan))\n",
    "    tweets['fillon'] = tweets['text'].apply(lambda line: presence_candidats(line,fillon))\n",
    "    tweets['hamon'] = tweets['text'].apply(lambda line: presence_candidats(line,hamon))\n",
    "    tweets['lassalle'] = tweets['text'].apply(lambda line: presence_candidats(line,lassalle))\n",
    "    tweets['lepen'] = tweets['text'].apply(lambda line: presence_candidats(line,lepen))\n",
    "    tweets['macron'] = tweets['text'].apply(lambda line: presence_candidats(line,macron))\n",
    "    tweets['melenchon'] = tweets['text'].apply(lambda line: presence_candidats(line,melenchon))\n",
    "    tweets['poutou'] = tweets['text'].apply(lambda line: presence_candidats(line,poutou))\n",
    "    \n",
    "    tweets['nb_candidat']=tweets['asselineau']+tweets['arthaud']+tweets['cheminade']+tweets['dupontaignan']+tweets['fillon']+tweets['hamon']+tweets['lassalle']+tweets['lepen']+tweets['macron']+tweets['melenchon']+tweets['poutou']\n",
    "    \n",
    "    return tweets"
   ]
  },
  {
   "cell_type": "code",
   "execution_count": 116,
   "metadata": {
    "collapsed": false
   },
   "outputs": [],
   "source": [
    "tweets_mars=process_tweet('twitter_data')"
   ]
  },
  {
   "cell_type": "code",
   "execution_count": 117,
   "metadata": {
    "collapsed": true
   },
   "outputs": [],
   "source": [
    "tweets_avril=process_tweet('twitter_data_17avril')"
   ]
  },
  {
   "cell_type": "code",
   "execution_count": 75,
   "metadata": {
    "collapsed": true
   },
   "outputs": [],
   "source": [
    "def semi_process_tweet(file_name):\n",
    "    tweets_data_path = '/Users/saramounir/'+file_name+'.txt'\n",
    "\n",
    "    tweets_data = []\n",
    "    tweets_file = open(tweets_data_path, \"r\")\n",
    "    for line in tweets_file:\n",
    "        try:\n",
    "            tweet = json.loads(line)\n",
    "            if 'text' in tweet.keys() : \n",
    "                tweets_data.append(tweet)\n",
    "        except:\n",
    "            continue\n",
    "    \n",
    "    tweets = pd.DataFrame()\n",
    "    \n",
    "    tweets['text'] = list(map(lambda tweet: tweet['text'], tweets_data))\n",
    "    tweets['date'] = list(map(lambda tweet: tweet['created_at'], tweets_data))\n",
    "    tweets['lang'] = list(map(lambda tweet: tweet['lang'], tweets_data))\n",
    "    tweets['country'] = list(map(lambda tweet: tweet['user']['location'] if tweet['user']['location'] != None else None, tweets_data))\n",
    "    tweets['user_name'] = list(map(lambda tweet: tweet['user']['name'] if tweet['user']['name'] != None else None, tweets_data))\n",
    "    tweets['description_user'] = list(map(lambda tweet: tweet['user']['description'] if tweet['user']['description'] != None else None, tweets_data))\n",
    "    tweets['source'] = list(map(lambda tweet: tweet['source'], tweets_data))\n",
    "    \n",
    "    return tweets"
   ]
  },
  {
   "cell_type": "code",
   "execution_count": 76,
   "metadata": {
    "collapsed": true
   },
   "outputs": [],
   "source": [
    "tweets_mars_entier=semi_process_tweet('twitter_data')"
   ]
  },
  {
   "cell_type": "markdown",
   "metadata": {},
   "source": [
    "#### Rajout label"
   ]
  },
  {
   "cell_type": "code",
   "execution_count": 118,
   "metadata": {
    "collapsed": true
   },
   "outputs": [],
   "source": [
    "tweet_label=pd.read_excel(\"/Users/saramounir/Desktop/tweets_23avril_après.xlsx\")"
   ]
  },
  {
   "cell_type": "code",
   "execution_count": 119,
   "metadata": {
    "collapsed": false
   },
   "outputs": [],
   "source": [
    "label=tweet_label['label']\n",
    "label\n",
    "tweets_mars['label']=label"
   ]
  },
  {
   "cell_type": "markdown",
   "metadata": {
    "collapsed": true
   },
   "source": [
    "## Graphiques"
   ]
  },
  {
   "cell_type": "markdown",
   "metadata": {},
   "source": [
    "### Nb tweet/candidat"
   ]
  },
  {
   "cell_type": "code",
   "execution_count": 67,
   "metadata": {
    "collapsed": false,
    "scrolled": true
   },
   "outputs": [
    {
     "data": {
      "image/png": "[encoded data removed]",
      "text/plain": [
       "<matplotlib.figure.Figure at 0x13a74b828>"
      ]
     },
     "metadata": {},
     "output_type": "display_data"
    }
   ],
   "source": [
    "somme=[tweets_mars['asselineau'].sum(),tweets_mars['arthaud'].sum(),tweets_mars['cheminade'].sum(),\n",
    "      tweets_mars['dupontaignan'].sum(),tweets_mars['fillon'].sum(),tweets_mars['hamon'].sum(),\n",
    "      tweets_mars['lassalle'].sum(),tweets_mars['lepen'].sum(),tweets_mars['macron'].sum(),\n",
    "      tweets_mars['melenchon'].sum(),tweets_mars['poutou'].sum()]\n",
    "\n",
    "candidats=['asselineau','arthaud','cheminade','dupontaignan','fillon','hamon','lassalle','lepen','macron','melenchon','poutou']\n",
    "\n",
    "y_pos = np.arange(len(candidats))\n",
    "plt.bar(y_pos,somme,color='#139BB4')\n",
    "plt.xticks(y_pos,candidats, rotation=45)\n",
    "\n",
    "savefig('/Users/saramounir/Desktop/Ensae/S2/python/site_sara/v0/Site web/images/home/nb_tweet_candidat.png')"
   ]
  },
  {
   "cell_type": "markdown",
   "metadata": {},
   "source": [
    "### Nb tweet/ville"
   ]
  },
  {
   "cell_type": "code",
   "execution_count": 68,
   "metadata": {
    "collapsed": false
   },
   "outputs": [
    {
     "data": {
      "image/png": "[encoded data removed]",
      "text/plain": [
       "<matplotlib.figure.Figure at 0x117e8e0f0>"
      ]
     },
     "metadata": {},
     "output_type": "display_data"
    }
   ],
   "source": [
    "nb_ville=tweets_mars.groupby('ville').count()\n",
    "count=nb_ville['text'][1:]\n",
    "\n",
    "villes = ['bordeaux','lille','lyon','marseille','montpellier','nantes','nice','paris','strasbourg','toulouse']\n",
    "y_pos = np.arange(len(villes))\n",
    "\n",
    "plt.bar(y_pos,count,color='#139BB4')\n",
    "plt.xticks(y_pos,villes, rotation=45)\n",
    "\n",
    "savefig('/Users/saramounir/Desktop/Ensae/S2/python/site_sara/v0/Site web/images/home/nb_tweet_ville.png')"
   ]
  },
  {
   "cell_type": "markdown",
   "metadata": {},
   "source": [
    "### Nb tweet/source"
   ]
  },
  {
   "cell_type": "code",
   "execution_count": 23,
   "metadata": {
    "collapsed": false
   },
   "outputs": [],
   "source": [
    "nb_ville=tweets_mars.groupby('source').count()\n",
    "count=nb_ville['text'][1:]\n",
    "#count\n",
    "\n",
    "#villes = ['bordeaux','lille','lyon','marseille','montpellier','nantes','nice','paris','strasbourg','toulouse']\n",
    "#y_pos = np.arange(len(villes))\n",
    "\n",
    "#plt.bar(y_pos,count,color='#139BB4')\n",
    "#plt.xticks(y_pos,villes, rotation=45)"
   ]
  },
  {
   "cell_type": "markdown",
   "metadata": {
    "collapsed": true
   },
   "source": [
    "### Network"
   ]
  },
  {
   "cell_type": "code",
   "execution_count": 24,
   "metadata": {
    "collapsed": false
   },
   "outputs": [
    {
     "data": {
      "text/html": [
       "<div>\n",
       "<table border=\"1\" class=\"dataframe\">\n",
       "  <thead>\n",
       "    <tr style=\"text-align: right;\">\n",
       "      <th></th>\n",
       "      <th>asselineau</th>\n",
       "      <th>arthaud</th>\n",
       "      <th>cheminade</th>\n",
       "      <th>dupontaignan</th>\n",
       "      <th>fillon</th>\n",
       "      <th>hamon</th>\n",
       "      <th>lassalle</th>\n",
       "      <th>lepen</th>\n",
       "      <th>macron</th>\n",
       "      <th>melenchon</th>\n",
       "      <th>poutou</th>\n",
       "    </tr>\n",
       "  </thead>\n",
       "  <tbody>\n",
       "    <tr>\n",
       "      <th>asselineau</th>\n",
       "      <td>53</td>\n",
       "      <td>0</td>\n",
       "      <td>0</td>\n",
       "      <td>4</td>\n",
       "      <td>2</td>\n",
       "      <td>0</td>\n",
       "      <td>4</td>\n",
       "      <td>2</td>\n",
       "      <td>4</td>\n",
       "      <td>0</td>\n",
       "      <td>5</td>\n",
       "    </tr>\n",
       "    <tr>\n",
       "      <th>arthaud</th>\n",
       "      <td>0</td>\n",
       "      <td>13</td>\n",
       "      <td>0</td>\n",
       "      <td>0</td>\n",
       "      <td>0</td>\n",
       "      <td>0</td>\n",
       "      <td>0</td>\n",
       "      <td>0</td>\n",
       "      <td>10</td>\n",
       "      <td>0</td>\n",
       "      <td>0</td>\n",
       "    </tr>\n",
       "    <tr>\n",
       "      <th>cheminade</th>\n",
       "      <td>0</td>\n",
       "      <td>0</td>\n",
       "      <td>2</td>\n",
       "      <td>0</td>\n",
       "      <td>0</td>\n",
       "      <td>0</td>\n",
       "      <td>0</td>\n",
       "      <td>0</td>\n",
       "      <td>0</td>\n",
       "      <td>0</td>\n",
       "      <td>0</td>\n",
       "    </tr>\n",
       "    <tr>\n",
       "      <th>dupontaignan</th>\n",
       "      <td>4</td>\n",
       "      <td>0</td>\n",
       "      <td>0</td>\n",
       "      <td>113</td>\n",
       "      <td>14</td>\n",
       "      <td>2</td>\n",
       "      <td>4</td>\n",
       "      <td>10</td>\n",
       "      <td>32</td>\n",
       "      <td>1</td>\n",
       "      <td>4</td>\n",
       "    </tr>\n",
       "    <tr>\n",
       "      <th>fillon</th>\n",
       "      <td>2</td>\n",
       "      <td>0</td>\n",
       "      <td>0</td>\n",
       "      <td>14</td>\n",
       "      <td>11161</td>\n",
       "      <td>38</td>\n",
       "      <td>1</td>\n",
       "      <td>93</td>\n",
       "      <td>167</td>\n",
       "      <td>342</td>\n",
       "      <td>1</td>\n",
       "    </tr>\n",
       "    <tr>\n",
       "      <th>hamon</th>\n",
       "      <td>0</td>\n",
       "      <td>0</td>\n",
       "      <td>0</td>\n",
       "      <td>2</td>\n",
       "      <td>38</td>\n",
       "      <td>419</td>\n",
       "      <td>0</td>\n",
       "      <td>31</td>\n",
       "      <td>92</td>\n",
       "      <td>52</td>\n",
       "      <td>1</td>\n",
       "    </tr>\n",
       "    <tr>\n",
       "      <th>lassalle</th>\n",
       "      <td>4</td>\n",
       "      <td>0</td>\n",
       "      <td>0</td>\n",
       "      <td>4</td>\n",
       "      <td>1</td>\n",
       "      <td>0</td>\n",
       "      <td>14</td>\n",
       "      <td>0</td>\n",
       "      <td>4</td>\n",
       "      <td>0</td>\n",
       "      <td>4</td>\n",
       "    </tr>\n",
       "    <tr>\n",
       "      <th>lepen</th>\n",
       "      <td>2</td>\n",
       "      <td>0</td>\n",
       "      <td>0</td>\n",
       "      <td>10</td>\n",
       "      <td>93</td>\n",
       "      <td>31</td>\n",
       "      <td>0</td>\n",
       "      <td>1170</td>\n",
       "      <td>110</td>\n",
       "      <td>59</td>\n",
       "      <td>3</td>\n",
       "    </tr>\n",
       "    <tr>\n",
       "      <th>macron</th>\n",
       "      <td>4</td>\n",
       "      <td>10</td>\n",
       "      <td>0</td>\n",
       "      <td>32</td>\n",
       "      <td>167</td>\n",
       "      <td>92</td>\n",
       "      <td>4</td>\n",
       "      <td>110</td>\n",
       "      <td>1801</td>\n",
       "      <td>76</td>\n",
       "      <td>66</td>\n",
       "    </tr>\n",
       "    <tr>\n",
       "      <th>melenchon</th>\n",
       "      <td>0</td>\n",
       "      <td>0</td>\n",
       "      <td>0</td>\n",
       "      <td>1</td>\n",
       "      <td>342</td>\n",
       "      <td>52</td>\n",
       "      <td>0</td>\n",
       "      <td>59</td>\n",
       "      <td>76</td>\n",
       "      <td>1031</td>\n",
       "      <td>1</td>\n",
       "    </tr>\n",
       "    <tr>\n",
       "      <th>poutou</th>\n",
       "      <td>5</td>\n",
       "      <td>0</td>\n",
       "      <td>0</td>\n",
       "      <td>4</td>\n",
       "      <td>1</td>\n",
       "      <td>1</td>\n",
       "      <td>4</td>\n",
       "      <td>3</td>\n",
       "      <td>66</td>\n",
       "      <td>1</td>\n",
       "      <td>81</td>\n",
       "    </tr>\n",
       "  </tbody>\n",
       "</table>\n",
       "</div>"
      ],
      "text/plain": [
       "              asselineau  arthaud  cheminade  dupontaignan  fillon  hamon  \\\n",
       "asselineau            53        0          0             4       2      0   \n",
       "arthaud                0       13          0             0       0      0   \n",
       "cheminade              0        0          2             0       0      0   \n",
       "dupontaignan           4        0          0           113      14      2   \n",
       "fillon                 2        0          0            14   11161     38   \n",
       "hamon                  0        0          0             2      38    419   \n",
       "lassalle               4        0          0             4       1      0   \n",
       "lepen                  2        0          0            10      93     31   \n",
       "macron                 4       10          0            32     167     92   \n",
       "melenchon              0        0          0             1     342     52   \n",
       "poutou                 5        0          0             4       1      1   \n",
       "\n",
       "              lassalle  lepen  macron  melenchon  poutou  \n",
       "asselineau           4      2       4          0       5  \n",
       "arthaud              0      0      10          0       0  \n",
       "cheminade            0      0       0          0       0  \n",
       "dupontaignan         4     10      32          1       4  \n",
       "fillon               1     93     167        342       1  \n",
       "hamon                0     31      92         52       1  \n",
       "lassalle            14      0       4          0       4  \n",
       "lepen                0   1170     110         59       3  \n",
       "macron               4    110    1801         76      66  \n",
       "melenchon            0     59      76       1031       1  \n",
       "poutou               4      3      66          1      81  "
      ]
     },
     "execution_count": 24,
     "metadata": {},
     "output_type": "execute_result"
    }
   ],
   "source": [
    "network=pd.DataFrame()\n",
    "for c in candidats:\n",
    "    t=tweets_mars.loc[tweets_mars[c] == 1]\n",
    "    t=t[['asselineau','arthaud','cheminade','dupontaignan','fillon','hamon','lassalle','lepen','macron','melenchon','poutou']]\n",
    "    somme=t.sum()\n",
    "    network[c]=somme\n",
    "network"
   ]
  },
  {
   "cell_type": "code",
   "execution_count": 66,
   "metadata": {
    "collapsed": false
   },
   "outputs": [
    {
     "data": {
      "image/png": "[encoded data removed]",
      "text/plain": [
       "<matplotlib.figure.Figure at 0x13a7885f8>"
      ]
     },
     "metadata": {},
     "output_type": "display_data"
    }
   ],
   "source": [
    "import networkx as nx\n",
    "\n",
    "candidats=['asselineau','arthaud','cheminade','dupontaignan','fillon','hamon','lassalle','lepen','macron','melenchon','poutou']\n",
    "\n",
    "G=nx.Graph()\n",
    "G.add_nodes_from(candidats)\n",
    "\n",
    "for i in range(0,11) :\n",
    "    for j in range((i+1),11):\n",
    "        c1=candidats[i]\n",
    "        c2=candidats[j]\n",
    "        w=network.iloc[i,j]/network.iloc[i].sum()\n",
    "        \n",
    "        if w>0:\n",
    "            G.add_edge(c1,c2,weight=w)\n",
    "\n",
    "elarge=[(u,v) for (u,v,d) in G.edges(data=True) if d['weight'] >0.1]\n",
    "esmall=[(u,v) for (u,v,d) in G.edges(data=True) if d['weight'] <=0.1]\n",
    "\n",
    "pos=nx.spring_layout(G) # positions for all nodes\n",
    "\n",
    "nx.draw_networkx_nodes(G,pos,node_size=400,node_color='#139BB4',node_shape='o',linewidths=0.3)\n",
    "\n",
    "nx.draw_networkx_edges(G,pos,edgelist=elarge,\n",
    "                    width=1)\n",
    "nx.draw_networkx_edges(G,pos,edgelist=esmall,\n",
    "                    width=1,alpha=0.5,style='dashed')\n",
    "\n",
    "nx.draw_networkx_labels(G,pos,font_size=9,font_family='sans-serif',font_weight='medium')\n",
    "\n",
    "savefig('/Users/saramounir/Desktop/Ensae/S2/python/site_sara/v0/Site web/images/home/network_graph.png')"
   ]
  },
  {
   "cell_type": "markdown",
   "metadata": {},
   "source": [
    "### WordCloud"
   ]
  },
  {
   "cell_type": "code",
   "execution_count": 83,
   "metadata": {
    "collapsed": false
   },
   "outputs": [],
   "source": [
    "text=''\n",
    "\n",
    "for i in range(len(tweets_mars_entier)):\n",
    "    text=text + ' ' + tweets_mars_entier['text'][i]"
   ]
  },
  {
   "cell_type": "code",
   "execution_count": 84,
   "metadata": {
    "collapsed": false
   },
   "outputs": [],
   "source": [
    "from sklearn.feature_extraction.text import CountVectorizer\n",
    "\n",
    "cv = CountVectorizer(min_df=0, max_features=200)\n",
    "counts = cv.fit_transform([text]).toarray().ravel()                                                  \n",
    "words = np.array(cv.get_feature_names()) \n",
    "# normalize                                                                                                                                             \n",
    "counts = counts / float(counts.max())"
   ]
  },
  {
   "cell_type": "code",
   "execution_count": 107,
   "metadata": {
    "collapsed": false
   },
   "outputs": [
    {
     "data": {
      "image/png": "[encoded data removed]",
      "text/plain": [
       "<matplotlib.figure.Figure at 0x11bfe3b00>"
      ]
     },
     "metadata": {},
     "output_type": "display_data"
    },
    {
     "data": {
      "text/plain": [
       "<matplotlib.figure.Figure at 0x11bfe3b70>"
      ]
     },
     "metadata": {},
     "output_type": "display_data"
    }
   ],
   "source": [
    "from wordcloud import WordCloud, STOPWORDS\n",
    "\n",
    "stopwords = ['alors','au','aux','aucuns','aussi','autre','avant','avec','avoir','bon','ca','ça','car','ce','cela',\"c'est\",'ces','ceux','chaque','ci','co','comme','comment','dans','de','des','du','dedans','dehors','depuis','devrait','doit','donc','dos','debut','elle','elles','en','encore','essai','est','et','eu','fait','faites','fois','font','http','https','hors','ici','il','ils','je',\"j'ai\",'la','le','les','leur','ma','maintenant','mais','mes','mine','moi','moins','mon','mot','meme','ni','nommes','notre','nous','ne','ou','on','par','parce','pas','peut','peu','plupart','pour','pourquoi','quand','que','quel','quelle','quelles','quels','qui',\"qu'il\",'sa','sans','ses','se','seulement','si','sien','son','sont','sous','soyez','sur','ta','tandis','tellement','tels','tes','ton','tous','tout','trop','tres','tu','un','une','voient','vont','votre','vous','vu','etaient','etat','etions','ete','etre','rt']\n",
    "\n",
    "def blue_color_func(word, font_size, position, orientation, random_state=None,\n",
    "                    **kwargs):\n",
    "    return \"rgb(19,155,180)\"\n",
    "\n",
    "wordcloud = WordCloud(max_words=2000, \n",
    "                      #mask=mask, \n",
    "                      stopwords=stopwords, \n",
    "                      margin=10,\n",
    "                      background_color=\"white\",\n",
    "                      random_state=1,\n",
    "                      color_func=blue_color_func).generate(text)\n",
    "\n",
    "plt.imshow(wordcloud)\n",
    "plt.axis(\"off\")\n",
    "plt.show()\n",
    "\n",
    "plt.savefig('/Users/saramounir/Desktop/Ensae/S2/python/site_sara/v0/Site web/images/home/wordcloud.png')"
   ]
  },
  {
   "cell_type": "markdown",
   "metadata": {
    "collapsed": true
   },
   "source": [
    "## Prédiction"
   ]
  },
  {
   "cell_type": "code",
   "execution_count": 120,
   "metadata": {
    "collapsed": false
   },
   "outputs": [],
   "source": [
    "train=tweets_mars.loc[tweets_mars['nb_candidat'] == 1]\n",
    "train=train.dropna()\n",
    "train = train.drop([\"date\",\"lang\",\"country\",\"user_name\",\"description_user\",\"source\",\"nb_@\",\"nb_rt\",\"ville\",\"asselineau\",\"arthaud\",\"cheminade\",\"dupontaignan\",\"fillon\",\"hamon\",\"lassalle\",\"lepen\",\"macron\",\"melenchon\",\"poutou\",\"nb_candidat\"], axis=1)"
   ]
  },
  {
   "cell_type": "code",
   "execution_count": 121,
   "metadata": {
    "collapsed": false
   },
   "outputs": [],
   "source": [
    "from collections import Counter\n",
    "X_train = list(train.apply(lambda x:Counter(x['text']), axis = 1))\n",
    "X_test = list(train.apply(lambda x:Counter(x['text']), axis = 1))"
   ]
  },
  {
   "cell_type": "code",
   "execution_count": 122,
   "metadata": {
    "collapsed": false
   },
   "outputs": [
    {
     "data": {
      "text/plain": [
       "<505x2073 sparse matrix of type '<class 'numpy.float64'>'\n",
       "\twith 5914 stored elements in Compressed Sparse Row format>"
      ]
     },
     "execution_count": 122,
     "metadata": {},
     "output_type": "execute_result"
    }
   ],
   "source": [
    "from sklearn.feature_extraction import DictVectorizer\n",
    "v = DictVectorizer(sparse=True)\n",
    "X_train = v.fit_transform(X_train)\n",
    "X_train"
   ]
  },
  {
   "cell_type": "code",
   "execution_count": 123,
   "metadata": {
    "collapsed": false
   },
   "outputs": [],
   "source": [
    "X_test = v.transform(X_test)"
   ]
  },
  {
   "cell_type": "markdown",
   "metadata": {},
   "source": [
    "#### cross validation"
   ]
  },
  {
   "cell_type": "code",
   "execution_count": 124,
   "metadata": {
    "collapsed": false
   },
   "outputs": [
    {
     "name": "stdout",
     "output_type": "stream",
     "text": [
      "(505, 2)\n",
      "(505, 2073), (378, 2073), (127, 2073)\n"
     ]
    }
   ],
   "source": [
    "from sklearn import cross_validation\n",
    "\n",
    "print(train.shape)\n",
    "\n",
    "train_target = train.label\n",
    "train_data = X_train\n",
    "\n",
    "# Validation croisée\n",
    "X = train_data\n",
    "y = train_target\n",
    "\n",
    "X_train, X_test, y_train, y_test = cross_validation.train_test_split(X, y,\n",
    "                                        test_size=0.25, random_state=0)\n",
    "\n",
    "print(\"%r, %r, %r\" % (X.shape, X_train.shape, X_test.shape))"
   ]
  },
  {
   "cell_type": "code",
   "execution_count": 31,
   "metadata": {
    "collapsed": false
   },
   "outputs": [
    {
     "data": {
      "text/plain": [
       "LogisticRegression(C=1.0, class_weight=None, dual=False, fit_intercept=True,\n",
       "          intercept_scaling=1, max_iter=100, multi_class='ovr', n_jobs=1,\n",
       "          penalty='l2', random_state=None, solver='liblinear', tol=0.0001,\n",
       "          verbose=0, warm_start=False)"
      ]
     },
     "execution_count": 31,
     "metadata": {},
     "output_type": "execute_result"
    }
   ],
   "source": [
    "from sklearn import linear_model\n",
    "\n",
    "logistic = linear_model.LogisticRegression()\n",
    "logistic.fit(X_train, y_train)"
   ]
  },
  {
   "cell_type": "code",
   "execution_count": 32,
   "metadata": {
    "collapsed": false
   },
   "outputs": [],
   "source": [
    "# use the model to predict the labels of the test data\n",
    "y_pred = logistic.predict(X_test)"
   ]
  },
  {
   "cell_type": "code",
   "execution_count": 33,
   "metadata": {
    "collapsed": false
   },
   "outputs": [
    {
     "name": "stdout",
     "output_type": "stream",
     "text": [
      "[[ 0  4  2]\n",
      " [ 0 36 21]\n",
      " [ 0 23 16]]\n",
      "             precision    recall  f1-score   support\n",
      "\n",
      "       -1.0       0.00      0.00      0.00         6\n",
      "        0.0       0.57      0.63      0.60        57\n",
      "        1.0       0.41      0.41      0.41        39\n",
      "\n",
      "avg / total       0.48      0.51      0.49       102\n",
      "\n"
     ]
    },
    {
     "name": "stderr",
     "output_type": "stream",
     "text": [
      "/Users/saramounir/anaconda/lib/python3.5/site-packages/sklearn/metrics/classification.py:1074: UndefinedMetricWarning:\n",
      "\n",
      "Precision and F-score are ill-defined and being set to 0.0 in labels with no predicted samples.\n",
      "\n"
     ]
    }
   ],
   "source": [
    "from sklearn import metrics\n",
    "\n",
    "print(metrics.confusion_matrix(y_test, y_pred))\n",
    "\n",
    "print(metrics.classification_report(y_test, y_pred))"
   ]
  },
  {
   "cell_type": "code",
   "execution_count": 34,
   "metadata": {
    "collapsed": false
   },
   "outputs": [
    {
     "data": {
      "text/html": [
       "<div>\n",
       "<table border=\"1\" class=\"dataframe\">\n",
       "  <thead>\n",
       "    <tr style=\"text-align: right;\">\n",
       "      <th></th>\n",
       "      <th>text</th>\n",
       "      <th>label</th>\n",
       "    </tr>\n",
       "  </thead>\n",
       "  <tbody>\n",
       "    <tr>\n",
       "      <th>26</th>\n",
       "      <td>[roblelama, sochik, jlmelenchon, cas, m, aura,...</td>\n",
       "      <td>0.0</td>\n",
       "    </tr>\n",
       "    <tr>\n",
       "      <th>29</th>\n",
       "      <td>[ionwhite, a, tweet, from, presidential, candi...</td>\n",
       "      <td>0.0</td>\n",
       "    </tr>\n",
       "    <tr>\n",
       "      <th>61</th>\n",
       "      <td>[apres, elections, partisocialiste, va, virer,...</td>\n",
       "      <td>-1.0</td>\n",
       "    </tr>\n",
       "    <tr>\n",
       "      <th>69</th>\n",
       "      <td>[jraas, pablo, melenchon, escobar]</td>\n",
       "      <td>0.0</td>\n",
       "    </tr>\n",
       "    <tr>\n",
       "      <th>72</th>\n",
       "      <td>[ofcaldubkoto, bagong, hamon, para, kila, benj...</td>\n",
       "      <td>0.0</td>\n",
       "    </tr>\n",
       "  </tbody>\n",
       "</table>\n",
       "</div>"
      ],
      "text/plain": [
       "                                                 text  label\n",
       "26  [roblelama, sochik, jlmelenchon, cas, m, aura,...    0.0\n",
       "29  [ionwhite, a, tweet, from, presidential, candi...    0.0\n",
       "61  [apres, elections, partisocialiste, va, virer,...   -1.0\n",
       "69                 [jraas, pablo, melenchon, escobar]    0.0\n",
       "72  [ofcaldubkoto, bagong, hamon, para, kila, benj...    0.0"
      ]
     },
     "execution_count": 34,
     "metadata": {},
     "output_type": "execute_result"
    }
   ],
   "source": [
    "train.head()"
   ]
  },
  {
   "cell_type": "code",
   "execution_count": 35,
   "metadata": {
    "collapsed": false
   },
   "outputs": [],
   "source": [
    "test=tweets_avril.loc[tweets_avril['nb_candidat'] == 1]\n",
    "test = test.drop([\"date\",\"lang\",\"country\",\"user_name\",\"description_user\",\"source\",\"nb_@\",\"nb_rt\",\"ville\",\"asselineau\",\"arthaud\",\"cheminade\",\"dupontaignan\",\"fillon\",\"hamon\",\"lassalle\",\"lepen\",\"macron\",\"melenchon\",\"poutou\",\"nb_candidat\"], axis=1)\n",
    "\n",
    "X_test = list(test.apply(lambda x:Counter(x['text']), axis = 1))\n",
    "X_test = v.transform(X_test)\n",
    "\n",
    "# use the model to predict the labels of the test data\n",
    "y_pred = logistic.predict(X_test)"
   ]
  },
  {
   "cell_type": "code",
   "execution_count": 36,
   "metadata": {
    "collapsed": false
   },
   "outputs": [
    {
     "data": {
      "text/plain": [
       "array([ 0.,  0.,  0., ...,  0.,  0.,  1.])"
      ]
     },
     "execution_count": 36,
     "metadata": {},
     "output_type": "execute_result"
    }
   ],
   "source": [
    "y_pred"
   ]
  },
  {
   "cell_type": "markdown",
   "metadata": {
    "collapsed": false
   },
   "source": [
    "## Score"
   ]
  },
  {
   "cell_type": "code",
   "execution_count": 37,
   "metadata": {
    "collapsed": false
   },
   "outputs": [],
   "source": [
    "tweets_avril=tweets_avril.loc[tweets_avril['nb_candidat'] == 1]\n",
    "tweets_avril['label']=y_pred"
   ]
  },
  {
   "cell_type": "code",
   "execution_count": 40,
   "metadata": {
    "collapsed": false
   },
   "outputs": [],
   "source": [
    "def scoring(row):\n",
    "    if row['label'] == 0:\n",
    "        return 1\n",
    "    elif row['label'] == 1:\n",
    "        return 2\n",
    "    elif row['label'] == -1:\n",
    "        return -1\n",
    "\n",
    "def compute(S):\n",
    "    return (S['COUNT']*S['SCORE']).sum()"
   ]
  },
  {
   "cell_type": "code",
   "execution_count": 47,
   "metadata": {
    "collapsed": false
   },
   "outputs": [],
   "source": [
    "candidats=['asselineau','arthaud','cheminade','dupontaignan','fillon','hamon','lassalle','lepen','macron','melenchon','poutou']\n",
    "df = pd.DataFrame(columns = ['candidat', 'score'],index = [0,1,2,3,4,5,6,7,8,9,10])\n",
    "i=0\n",
    "\n",
    "for candidat in candidats:\n",
    "    tweet_candidat=tweets_avril.loc[tweets_avril[candidat] == 1]\n",
    "    nb=tweet_candidat.groupby('label').count()['text']\n",
    "    \n",
    "    S = nb.to_frame('COUNT')\n",
    "    S['SCORE'] = S.reset_index().apply(scoring, axis = 1)\n",
    "    score = compute(S)\n",
    "    \n",
    "    df['candidat'][i]=candidat\n",
    "    df['score'][i]=score\n",
    "    \n",
    "    i=i+1\n",
    "\n",
    "somme_score=df['score'].sum()\n",
    "\n",
    "df['score'] = df['score'].apply(lambda line: line/somme_score*100)"
   ]
  },
  {
   "cell_type": "code",
   "execution_count": 60,
   "metadata": {
    "collapsed": false
   },
   "outputs": [
    {
     "data": {
      "text/html": [
       "<div>\n",
       "<table border=\"1\" class=\"dataframe\">\n",
       "  <thead>\n",
       "    <tr style=\"text-align: right;\">\n",
       "      <th></th>\n",
       "      <th>index</th>\n",
       "      <th>candidat</th>\n",
       "      <th>score</th>\n",
       "    </tr>\n",
       "  </thead>\n",
       "  <tbody>\n",
       "    <tr>\n",
       "      <th>0</th>\n",
       "      <td>8</td>\n",
       "      <td>macron</td>\n",
       "      <td>40.241408</td>\n",
       "    </tr>\n",
       "    <tr>\n",
       "      <th>1</th>\n",
       "      <td>4</td>\n",
       "      <td>fillon</td>\n",
       "      <td>32.119476</td>\n",
       "    </tr>\n",
       "    <tr>\n",
       "      <th>2</th>\n",
       "      <td>9</td>\n",
       "      <td>melenchon</td>\n",
       "      <td>13.741135</td>\n",
       "    </tr>\n",
       "    <tr>\n",
       "      <th>3</th>\n",
       "      <td>7</td>\n",
       "      <td>lepen</td>\n",
       "      <td>4.821331</td>\n",
       "    </tr>\n",
       "    <tr>\n",
       "      <th>4</th>\n",
       "      <td>5</td>\n",
       "      <td>hamon</td>\n",
       "      <td>4.118931</td>\n",
       "    </tr>\n",
       "    <tr>\n",
       "      <th>5</th>\n",
       "      <td>0</td>\n",
       "      <td>asselineau</td>\n",
       "      <td>2.379978</td>\n",
       "    </tr>\n",
       "    <tr>\n",
       "      <th>6</th>\n",
       "      <td>3</td>\n",
       "      <td>dupontaignan</td>\n",
       "      <td>1.329787</td>\n",
       "    </tr>\n",
       "    <tr>\n",
       "      <th>7</th>\n",
       "      <td>10</td>\n",
       "      <td>poutou</td>\n",
       "      <td>0.900164</td>\n",
       "    </tr>\n",
       "    <tr>\n",
       "      <th>8</th>\n",
       "      <td>1</td>\n",
       "      <td>arthaud</td>\n",
       "      <td>0.143208</td>\n",
       "    </tr>\n",
       "    <tr>\n",
       "      <th>9</th>\n",
       "      <td>6</td>\n",
       "      <td>lassalle</td>\n",
       "      <td>0.109111</td>\n",
       "    </tr>\n",
       "    <tr>\n",
       "      <th>10</th>\n",
       "      <td>2</td>\n",
       "      <td>cheminade</td>\n",
       "      <td>0.095472</td>\n",
       "    </tr>\n",
       "  </tbody>\n",
       "</table>\n",
       "</div>"
      ],
      "text/plain": [
       "    index      candidat      score\n",
       "0       8        macron  40.241408\n",
       "1       4        fillon  32.119476\n",
       "2       9     melenchon  13.741135\n",
       "3       7         lepen   4.821331\n",
       "4       5         hamon   4.118931\n",
       "5       0    asselineau   2.379978\n",
       "6       3  dupontaignan   1.329787\n",
       "7      10        poutou   0.900164\n",
       "8       1       arthaud   0.143208\n",
       "9       6      lassalle   0.109111\n",
       "10      2     cheminade   0.095472"
      ]
     },
     "execution_count": 60,
     "metadata": {},
     "output_type": "execute_result"
    }
   ],
   "source": [
    "df=df.sort_values(by = 'score', ascending = False).reset_index()\n",
    "df"
   ]
  },
  {
   "cell_type": "code",
   "execution_count": 62,
   "metadata": {
    "collapsed": false
   },
   "outputs": [
    {
     "name": "stdout",
     "output_type": "stream",
     "text": [
      "1er candidat : macron  avec un score de  40.2414075286\n",
      "2eme candidat : fillon  avec un score de  32.1194762684\n"
     ]
    }
   ],
   "source": [
    "print('1er candidat :',df['candidat'][0],' avec un score de ',df['score'][0])\n",
    "print('2eme candidat :',df['candidat'][1],' avec un score de ',df['score'][1])"
   ]
  },
  {
   "cell_type": "code",
   "execution_count": null,
   "metadata": {
    "collapsed": false
   },
   "outputs": [],
   "source": []
  },
  {
   "cell_type": "code",
   "execution_count": null,
   "metadata": {
    "collapsed": false
   },
   "outputs": [],
   "source": []
  },
  {
   "cell_type": "code",
   "execution_count": null,
   "metadata": {
    "collapsed": false
   },
   "outputs": [],
   "source": []
  },
  {
   "cell_type": "code",
   "execution_count": null,
   "metadata": {
    "collapsed": false
   },
   "outputs": [],
   "source": []
  },
  {
   "cell_type": "code",
   "execution_count": null,
   "metadata": {
    "collapsed": false
   },
   "outputs": [],
   "source": []
  },
  {
   "cell_type": "code",
   "execution_count": null,
   "metadata": {
    "collapsed": false
   },
   "outputs": [],
   "source": []
  },
  {
   "cell_type": "code",
   "execution_count": null,
   "metadata": {
    "collapsed": false
   },
   "outputs": [],
   "source": []
  },
  {
   "cell_type": "code",
   "execution_count": null,
   "metadata": {
    "collapsed": false
   },
   "outputs": [],
   "source": []
  },
  {
   "cell_type": "code",
   "execution_count": null,
   "metadata": {
    "collapsed": false
   },
   "outputs": [],
   "source": []
  },
  {
   "cell_type": "code",
   "execution_count": null,
   "metadata": {
    "collapsed": true
   },
   "outputs": [],
   "source": []
  },
  {
   "cell_type": "code",
   "execution_count": null,
   "metadata": {
    "collapsed": true
   },
   "outputs": [],
   "source": []
  },
  {
   "cell_type": "code",
   "execution_count": null,
   "metadata": {
    "collapsed": true
   },
   "outputs": [],
   "source": []
  },
  {
   "cell_type": "code",
   "execution_count": null,
   "metadata": {
    "collapsed": true
   },
   "outputs": [],
   "source": []
  },
  {
   "cell_type": "code",
   "execution_count": null,
   "metadata": {
    "collapsed": true
   },
   "outputs": [],
   "source": []
  },
  {
   "cell_type": "code",
   "execution_count": null,
   "metadata": {
    "collapsed": true
   },
   "outputs": [],
   "source": []
  },
  {
   "cell_type": "code",
   "execution_count": null,
   "metadata": {
    "collapsed": true
   },
   "outputs": [],
   "source": []
  },
  {
   "cell_type": "code",
   "execution_count": null,
   "metadata": {
    "collapsed": true
   },
   "outputs": [],
   "source": []
  },
  {
   "cell_type": "code",
   "execution_count": null,
   "metadata": {
    "collapsed": true
   },
   "outputs": [],
   "source": []
  },
  {
   "cell_type": "code",
   "execution_count": null,
   "metadata": {
    "collapsed": true
   },
   "outputs": [],
   "source": []
  },
  {
   "cell_type": "code",
   "execution_count": null,
   "metadata": {
    "collapsed": false
   },
   "outputs": [],
   "source": []
  },
  {
   "cell_type": "code",
   "execution_count": null,
   "metadata": {
    "collapsed": false
   },
   "outputs": [],
   "source": []
  },
  {
   "cell_type": "code",
   "execution_count": 127,
   "metadata": {
    "collapsed": false
   },
   "outputs": [],
   "source": [
    "#tweets=tweets[0:500]\n",
    "#tweets.to_csv(\"/Users/saramounir/Desktop/tweets_23avril_avant.csv\",sep=';')\n",
    "listei=[]\n",
    "\n",
    "\n",
    "\n",
    "for i in listei:\n",
    "    print(i,' : ',tweets_mars_entier['text'][i],'\\n')"
   ]
  },
  {
   "cell_type": "code",
   "execution_count": null,
   "metadata": {
    "collapsed": true
   },
   "outputs": [],
   "source": []
  }
 ],
 "metadata": {
  "anaconda-cloud": {},
  "kernelspec": {
   "display_name": "Python [conda root]",
   "language": "python",
   "name": "conda-root-py"
  },
  "language_info": {
   "codemirror_mode": {
    "name": "ipython",
    "version": 3
   },
   "file_extension": ".py",
   "mimetype": "text/x-python",
   "name": "python",
   "nbconvert_exporter": "python",
   "pygments_lexer": "ipython3",
   "version": "3.5.2"
  }
 },
 "nbformat": 4,
 "nbformat_minor": 1
}
