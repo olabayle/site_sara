{
 "cells": [
  {
   "cell_type": "code",
   "execution_count": 1,
   "metadata": {
    "collapsed": false
   },
   "outputs": [],
   "source": [
    "#package langue\n",
    "import nltk\n",
    "import re\n",
    "from nltk.corpus import stopwords\n",
    "import math\n",
    "\n",
    "from string import punctuation\n",
    "from collections import Counter"
   ]
  },
  {
   "cell_type": "code",
   "execution_count": 2,
   "metadata": {
    "collapsed": true
   },
   "outputs": [],
   "source": [
    "import json\n",
    "import pandas as pd\n",
    "import numpy as np\n",
    "import matplotlib.pyplot as plt\n",
    "%matplotlib inline"
   ]
  },
  {
   "cell_type": "markdown",
   "metadata": {
    "collapsed": true
   },
   "source": [
    "python twitter_streaming.py > twitter_data.txt"
   ]
  },
  {
   "cell_type": "markdown",
   "metadata": {
    "collapsed": false
   },
   "source": [
    "## Fonctions de traitement"
   ]
  },
  {
   "cell_type": "markdown",
   "metadata": {},
   "source": [
    "### Texte"
   ]
  },
  {
   "cell_type": "code",
   "execution_count": 3,
   "metadata": {
    "collapsed": true
   },
   "outputs": [],
   "source": [
    "def lower(tweet):\n",
    "    return tweet.lower()"
   ]
  },
  {
   "cell_type": "code",
   "execution_count": 4,
   "metadata": {
    "collapsed": true
   },
   "outputs": [],
   "source": [
    "def retrait_url(tweet):\n",
    "    p = re.compile('http.*? ')\n",
    "    if p.search(tweet) :\n",
    "        result=p.search(tweet).group()\n",
    "        tweet=tweet.replace(result,'')\n",
    "    p = re.compile('http(.)*')\n",
    "    if p.search(tweet) :\n",
    "        result=p.search(tweet).group()\n",
    "        tweet=tweet.replace(result,'')\n",
    "    return tweet"
   ]
  },
  {
   "cell_type": "code",
   "execution_count": 5,
   "metadata": {
    "collapsed": true
   },
   "outputs": [],
   "source": [
    "def accents(tweet):\n",
    "    a=['à','â']\n",
    "    c=['ç']\n",
    "    e=['é','è','ê','ë']\n",
    "    i=['î','ï']\n",
    "    o=['ô']\n",
    "    u=['û','ù']\n",
    "    for lettre in a:\n",
    "        tweet=tweet.replace(lettre,'a')\n",
    "    for lettre in c:\n",
    "        tweet=tweet.replace(lettre,'c')\n",
    "    for lettre in e:\n",
    "        tweet=tweet.replace(lettre,'e')\n",
    "    for lettre in i:\n",
    "        tweet=tweet.replace(lettre,'i')\n",
    "    for lettre in o:\n",
    "        tweet=tweet.replace(lettre,'o')\n",
    "    for lettre in u:\n",
    "        tweet=tweet.replace(lettre,'u')\n",
    "    return tweet"
   ]
  },
  {
   "cell_type": "code",
   "execution_count": 6,
   "metadata": {
    "collapsed": true
   },
   "outputs": [],
   "source": [
    "def retrait_chiffre(tweet):\n",
    "    chiffres=['0','1','2','3','4','5','6','7','8','9']\n",
    "    for i in chiffres:\n",
    "        tweet=tweet.replace(i,'')\n",
    "    return tweet"
   ]
  },
  {
   "cell_type": "code",
   "execution_count": 7,
   "metadata": {
    "collapsed": true
   },
   "outputs": [],
   "source": [
    "def separation_mots(tweet):\n",
    "    tweet=tweet.replace('le pen','lepen')\n",
    "    return tweet.split(' ')"
   ]
  },
  {
   "cell_type": "code",
   "execution_count": 8,
   "metadata": {
    "collapsed": true
   },
   "outputs": [],
   "source": [
    "def retrait_espace(tweet):\n",
    "    tweet = [word for word in tweet if word !='']\n",
    "    return tweet"
   ]
  },
  {
   "cell_type": "code",
   "execution_count": 9,
   "metadata": {
    "collapsed": true
   },
   "outputs": [],
   "source": [
    "def retrait_stopwords(tweet):\n",
    "    stopwords = ['alors','au','aux','aucuns','aussi','autre','avant','avec','avoir','bon','ca','car','ce','cela','ces','ceux','chaque','ci','comme','comment','dans','des','du','dedans','dehors','depuis','devrait','doit','donc','dos','debut','elle','elles','en','encore','essai','est','et','eu','fait','faites','fois','font','hors','ici','il','ils','je','la','le','les','leur','ma','maintenant','mais','mes','mine','moins','mon','mot','meme','ni','nommes','notre','nous','ou','par','parce','pas','peut','peu','plupart','pour','pourquoi','quand','que','quel','quelle','quelles','quels','qui','sa','sans','ses','seulement','si','sien','son','sont','sous','soyez','sur','ta','tandis','tellement','tels','tes','ton','tous','tout','trop','tres','tu','voient','vont','votre','vous','vu','etaient','etat','etions','ete','etre','rt']\n",
    "    tweet = [word for word in tweet if word not in stopwords]\n",
    "    return tweet"
   ]
  },
  {
   "cell_type": "code",
   "execution_count": 10,
   "metadata": {
    "collapsed": true
   },
   "outputs": [],
   "source": [
    "def retrait_ponctuation(tweet, punctuation_list):\n",
    "    for p in punctuation_list:\n",
    "        tweet=tweet.replace(p,' ')\n",
    "    tweet=tweet.replace('…','')\n",
    "    tweet=tweet.replace('\\n','')\n",
    "    return tweet"
   ]
  },
  {
   "cell_type": "code",
   "execution_count": 11,
   "metadata": {
    "collapsed": false,
    "scrolled": true
   },
   "outputs": [],
   "source": [
    "def process_text(row):\n",
    "    processed_tweet = lower(row['text'])\n",
    "    processed_tweet = retrait_url(processed_tweet)\n",
    "    processed_tweet = accents(processed_tweet)\n",
    "    processed_tweet = retrait_chiffre(processed_tweet)\n",
    "    processed_tweet = retrait_ponctuation(processed_tweet, list(punctuation))\n",
    "    processed_tweet = separation_mots(processed_tweet)\n",
    "    processed_tweet = retrait_espace(processed_tweet)\n",
    "    processed_tweet = retrait_stopwords(processed_tweet)\n",
    "    return processed_tweet"
   ]
  },
  {
   "cell_type": "markdown",
   "metadata": {},
   "source": [
    "### Ville"
   ]
  },
  {
   "cell_type": "code",
   "execution_count": 12,
   "metadata": {
    "collapsed": false
   },
   "outputs": [],
   "source": [
    "def ville(tweet):\n",
    "    top_ville=['paris','marseille','lyon','toulouse','nice','nantes','strasbourg','montpellier','bordeaux','lille']\n",
    "    result=' '\n",
    "    for ville in top_ville:\n",
    "        p = re.compile(ville)\n",
    "        if p.search(tweet) :\n",
    "            result=p.search(tweet).group()\n",
    "    return result"
   ]
  },
  {
   "cell_type": "markdown",
   "metadata": {},
   "source": [
    "### Source"
   ]
  },
  {
   "cell_type": "code",
   "execution_count": 13,
   "metadata": {
    "collapsed": true
   },
   "outputs": [],
   "source": [
    "def retrait_balise(tweet):\n",
    "    p = re.compile('</a>')\n",
    "    if p.search(tweet) :\n",
    "        result=p.search(tweet).group()\n",
    "        tweet=tweet.replace(result,'')\n",
    "    p = re.compile('<a(.)*>')\n",
    "    if p.search(tweet) :\n",
    "        result=p.search(tweet).group()\n",
    "        tweet=tweet.replace(result,'')\n",
    "    return tweet"
   ]
  },
  {
   "cell_type": "markdown",
   "metadata": {},
   "source": [
    "### Candidats"
   ]
  },
  {
   "cell_type": "markdown",
   "metadata": {},
   "source": [
    "---\n",
    "- Francois FILLON\n",
    "- Benoit HAMON\n",
    "- Emmanuel MACRON\n",
    "- Jean-Luc MELENCHON\n",
    "- Jean LASSALLE\n",
    "- Nicolas DUPONT-AIGNAN\n",
    "- Nathalie ARTHAUD\n",
    "- Marine LEPEN\n",
    "- Francois ASSELINEAU\n",
    "- Philippe POUTOU\n",
    "- Jacques CHEMINADE\n",
    "---"
   ]
  },
  {
   "cell_type": "code",
   "execution_count": 14,
   "metadata": {
    "collapsed": true
   },
   "outputs": [],
   "source": [
    "def presence_candidats(tweet,candidat):\n",
    "    present=0\n",
    "    for element in candidat:\n",
    "        present=present + int(element in tweet)\n",
    "    if present>=1:\n",
    "        present=1\n",
    "    return present"
   ]
  },
  {
   "cell_type": "markdown",
   "metadata": {
    "collapsed": true
   },
   "source": [
    "## Execution des fonctions"
   ]
  },
  {
   "cell_type": "code",
   "execution_count": 95,
   "metadata": {
    "collapsed": true
   },
   "outputs": [],
   "source": [
    "def process_tweet(file_name):\n",
    "    tweets_data_path = '/Users/saramounir/'+file_name+'.txt'\n",
    "\n",
    "    tweets_data = []\n",
    "    tweets_file = open(tweets_data_path, \"r\")\n",
    "    for line in tweets_file:\n",
    "        try:\n",
    "            tweet = json.loads(line)\n",
    "            if 'text' in tweet.keys() : \n",
    "                tweets_data.append(tweet)\n",
    "        except:\n",
    "            continue\n",
    "    \n",
    "    tweets = pd.DataFrame()\n",
    "    \n",
    "    tweets['text'] = list(map(lambda tweet: tweet['text'], tweets_data))\n",
    "    tweets['date'] = list(map(lambda tweet: tweet['created_at'], tweets_data))\n",
    "    tweets['lang'] = list(map(lambda tweet: tweet['lang'], tweets_data))\n",
    "    tweets['country'] = list(map(lambda tweet: tweet['user']['location'] if tweet['user']['location'] != None else None, tweets_data))\n",
    "    tweets['user_name'] = list(map(lambda tweet: tweet['user']['name'] if tweet['user']['name'] != None else None, tweets_data))\n",
    "    tweets['description_user'] = list(map(lambda tweet: tweet['user']['description'] if tweet['user']['description'] != None else None, tweets_data))\n",
    "    tweets['source'] = list(map(lambda tweet: tweet['source'], tweets_data))\n",
    "    \n",
    "    tweets['nb_@']=tweets['text'].apply(lambda x : x.count('@'))\n",
    "    tweets['nb_rt']=tweets['text'].apply(lambda x : x.count('RT'))\n",
    "    tweets['text'] = tweets.apply(process_text, axis = 1)\n",
    "    \n",
    "    tweets['country']=tweets['country'].fillna(' ')\n",
    "    tweets['country'] = tweets['country'].apply(lower)\n",
    "    \n",
    "    tweets['ville'] = tweets['country'].apply(ville)\n",
    "    \n",
    "    tweets['source'] = tweets['source'].apply(retrait_balise)\n",
    "    \n",
    "    asselineau=['asselineau','francoisasselineau']\n",
    "    arthaud=['arthaud','nathaliearthaud']\n",
    "    cheminade=['cheminade','jacquescheminade']\n",
    "    dupontaignan=['dupontaignan','nicolasdupontaignan','nda']\n",
    "    fillon=['fillon','fillongate','francoisfillon','tousfillon','jevotefillon']\n",
    "    hamon=['benoithamon','jeunesavechamon','hamon']\n",
    "    lassalle=['jeanlassalle','lassalle']\n",
    "    lepen=['lepen','mlp','lafrancevotemarine','lepengate','marine','marinelepen','fn']\n",
    "    macron=['macron','emmanuelmacron']\n",
    "    melenchon=['jlmelenchon','melenchon','jlm','jeanlucmelenchon']\n",
    "    poutou=['poutou','philippepoutou']\n",
    "    \n",
    "    tweets['asselineau'] = tweets['text'].apply(lambda line: presence_candidats(line,asselineau))\n",
    "    tweets['arthaud'] = tweets['text'].apply(lambda line: presence_candidats(line,arthaud))\n",
    "    tweets['cheminade'] = tweets['text'].apply(lambda line: presence_candidats(line,cheminade))\n",
    "    tweets['dupontaignan'] = tweets['text'].apply(lambda line: presence_candidats(line,dupontaignan))\n",
    "    tweets['fillon'] = tweets['text'].apply(lambda line: presence_candidats(line,fillon))\n",
    "    tweets['hamon'] = tweets['text'].apply(lambda line: presence_candidats(line,hamon))\n",
    "    tweets['lassalle'] = tweets['text'].apply(lambda line: presence_candidats(line,lassalle))\n",
    "    tweets['lepen'] = tweets['text'].apply(lambda line: presence_candidats(line,lepen))\n",
    "    tweets['macron'] = tweets['text'].apply(lambda line: presence_candidats(line,macron))\n",
    "    tweets['melenchon'] = tweets['text'].apply(lambda line: presence_candidats(line,melenchon))\n",
    "    tweets['poutou'] = tweets['text'].apply(lambda line: presence_candidats(line,poutou))\n",
    "    \n",
    "    tweets['nb_candidat']=tweets['asselineau']+tweets['arthaud']+tweets['cheminade']+tweets['dupontaignan']+tweets['fillon']+tweets['hamon']+tweets['lassalle']+tweets['lepen']+tweets['macron']+tweets['melenchon']+tweets['poutou']\n",
    "    \n",
    "    return tweets"
   ]
  },
  {
   "cell_type": "code",
   "execution_count": 96,
   "metadata": {
    "collapsed": false
   },
   "outputs": [],
   "source": [
    "tweets_mars=process_tweet('twitter_data')"
   ]
  },
  {
   "cell_type": "code",
   "execution_count": 97,
   "metadata": {
    "collapsed": true
   },
   "outputs": [],
   "source": [
    "tweets_avril=process_tweet('twitter_data_17avril')"
   ]
  },
  {
   "cell_type": "markdown",
   "metadata": {},
   "source": [
    "#### Rajout label"
   ]
  },
  {
   "cell_type": "code",
   "execution_count": 98,
   "metadata": {
    "collapsed": true
   },
   "outputs": [],
   "source": [
    "tweet_label=pd.read_excel(\"/Users/saramounir/Desktop/tweets_23avril_après.xlsx\")"
   ]
  },
  {
   "cell_type": "code",
   "execution_count": 99,
   "metadata": {
    "collapsed": false
   },
   "outputs": [],
   "source": [
    "label=tweet_label['label']\n",
    "label\n",
    "tweets_mars['label']=label"
   ]
  },
  {
   "cell_type": "markdown",
   "metadata": {
    "collapsed": true
   },
   "source": [
    "## Graphiques"
   ]
  },
  {
   "cell_type": "markdown",
   "metadata": {
    "collapsed": true
   },
   "source": [
    "### Network"
   ]
  },
  {
   "cell_type": "code",
   "execution_count": 36,
   "metadata": {
    "collapsed": false
   },
   "outputs": [
    {
     "data": {
      "text/html": [
       "<div>\n",
       "<table border=\"1\" class=\"dataframe\">\n",
       "  <thead>\n",
       "    <tr style=\"text-align: right;\">\n",
       "      <th></th>\n",
       "      <th>asselineau</th>\n",
       "      <th>arthaud</th>\n",
       "      <th>cheminade</th>\n",
       "      <th>dupontaignan</th>\n",
       "      <th>fillon</th>\n",
       "      <th>hamon</th>\n",
       "      <th>lassalle</th>\n",
       "      <th>lepen</th>\n",
       "      <th>macron</th>\n",
       "      <th>melenchon</th>\n",
       "      <th>poutou</th>\n",
       "    </tr>\n",
       "  </thead>\n",
       "  <tbody>\n",
       "    <tr>\n",
       "      <th>asselineau</th>\n",
       "      <td>53</td>\n",
       "      <td>0</td>\n",
       "      <td>0</td>\n",
       "      <td>4</td>\n",
       "      <td>2</td>\n",
       "      <td>0</td>\n",
       "      <td>4</td>\n",
       "      <td>2</td>\n",
       "      <td>4</td>\n",
       "      <td>0</td>\n",
       "      <td>5</td>\n",
       "    </tr>\n",
       "    <tr>\n",
       "      <th>arthaud</th>\n",
       "      <td>0</td>\n",
       "      <td>13</td>\n",
       "      <td>0</td>\n",
       "      <td>0</td>\n",
       "      <td>0</td>\n",
       "      <td>0</td>\n",
       "      <td>0</td>\n",
       "      <td>0</td>\n",
       "      <td>10</td>\n",
       "      <td>0</td>\n",
       "      <td>0</td>\n",
       "    </tr>\n",
       "    <tr>\n",
       "      <th>cheminade</th>\n",
       "      <td>0</td>\n",
       "      <td>0</td>\n",
       "      <td>2</td>\n",
       "      <td>0</td>\n",
       "      <td>0</td>\n",
       "      <td>0</td>\n",
       "      <td>0</td>\n",
       "      <td>0</td>\n",
       "      <td>0</td>\n",
       "      <td>0</td>\n",
       "      <td>0</td>\n",
       "    </tr>\n",
       "    <tr>\n",
       "      <th>dupontaignan</th>\n",
       "      <td>4</td>\n",
       "      <td>0</td>\n",
       "      <td>0</td>\n",
       "      <td>113</td>\n",
       "      <td>14</td>\n",
       "      <td>2</td>\n",
       "      <td>4</td>\n",
       "      <td>10</td>\n",
       "      <td>32</td>\n",
       "      <td>1</td>\n",
       "      <td>4</td>\n",
       "    </tr>\n",
       "    <tr>\n",
       "      <th>fillon</th>\n",
       "      <td>2</td>\n",
       "      <td>0</td>\n",
       "      <td>0</td>\n",
       "      <td>14</td>\n",
       "      <td>11161</td>\n",
       "      <td>38</td>\n",
       "      <td>1</td>\n",
       "      <td>93</td>\n",
       "      <td>167</td>\n",
       "      <td>342</td>\n",
       "      <td>1</td>\n",
       "    </tr>\n",
       "    <tr>\n",
       "      <th>hamon</th>\n",
       "      <td>0</td>\n",
       "      <td>0</td>\n",
       "      <td>0</td>\n",
       "      <td>2</td>\n",
       "      <td>38</td>\n",
       "      <td>419</td>\n",
       "      <td>0</td>\n",
       "      <td>31</td>\n",
       "      <td>92</td>\n",
       "      <td>52</td>\n",
       "      <td>1</td>\n",
       "    </tr>\n",
       "    <tr>\n",
       "      <th>lassalle</th>\n",
       "      <td>4</td>\n",
       "      <td>0</td>\n",
       "      <td>0</td>\n",
       "      <td>4</td>\n",
       "      <td>1</td>\n",
       "      <td>0</td>\n",
       "      <td>14</td>\n",
       "      <td>0</td>\n",
       "      <td>4</td>\n",
       "      <td>0</td>\n",
       "      <td>4</td>\n",
       "    </tr>\n",
       "    <tr>\n",
       "      <th>lepen</th>\n",
       "      <td>2</td>\n",
       "      <td>0</td>\n",
       "      <td>0</td>\n",
       "      <td>10</td>\n",
       "      <td>93</td>\n",
       "      <td>31</td>\n",
       "      <td>0</td>\n",
       "      <td>1170</td>\n",
       "      <td>110</td>\n",
       "      <td>59</td>\n",
       "      <td>3</td>\n",
       "    </tr>\n",
       "    <tr>\n",
       "      <th>macron</th>\n",
       "      <td>4</td>\n",
       "      <td>10</td>\n",
       "      <td>0</td>\n",
       "      <td>32</td>\n",
       "      <td>167</td>\n",
       "      <td>92</td>\n",
       "      <td>4</td>\n",
       "      <td>110</td>\n",
       "      <td>1801</td>\n",
       "      <td>76</td>\n",
       "      <td>66</td>\n",
       "    </tr>\n",
       "    <tr>\n",
       "      <th>melenchon</th>\n",
       "      <td>0</td>\n",
       "      <td>0</td>\n",
       "      <td>0</td>\n",
       "      <td>1</td>\n",
       "      <td>342</td>\n",
       "      <td>52</td>\n",
       "      <td>0</td>\n",
       "      <td>59</td>\n",
       "      <td>76</td>\n",
       "      <td>1031</td>\n",
       "      <td>1</td>\n",
       "    </tr>\n",
       "    <tr>\n",
       "      <th>poutou</th>\n",
       "      <td>5</td>\n",
       "      <td>0</td>\n",
       "      <td>0</td>\n",
       "      <td>4</td>\n",
       "      <td>1</td>\n",
       "      <td>1</td>\n",
       "      <td>4</td>\n",
       "      <td>3</td>\n",
       "      <td>66</td>\n",
       "      <td>1</td>\n",
       "      <td>81</td>\n",
       "    </tr>\n",
       "  </tbody>\n",
       "</table>\n",
       "</div>"
      ],
      "text/plain": [
       "              asselineau  arthaud  cheminade  dupontaignan  fillon  hamon  \\\n",
       "asselineau            53        0          0             4       2      0   \n",
       "arthaud                0       13          0             0       0      0   \n",
       "cheminade              0        0          2             0       0      0   \n",
       "dupontaignan           4        0          0           113      14      2   \n",
       "fillon                 2        0          0            14   11161     38   \n",
       "hamon                  0        0          0             2      38    419   \n",
       "lassalle               4        0          0             4       1      0   \n",
       "lepen                  2        0          0            10      93     31   \n",
       "macron                 4       10          0            32     167     92   \n",
       "melenchon              0        0          0             1     342     52   \n",
       "poutou                 5        0          0             4       1      1   \n",
       "\n",
       "              lassalle  lepen  macron  melenchon  poutou  \n",
       "asselineau           4      2       4          0       5  \n",
       "arthaud              0      0      10          0       0  \n",
       "cheminade            0      0       0          0       0  \n",
       "dupontaignan         4     10      32          1       4  \n",
       "fillon               1     93     167        342       1  \n",
       "hamon                0     31      92         52       1  \n",
       "lassalle            14      0       4          0       4  \n",
       "lepen                0   1170     110         59       3  \n",
       "macron               4    110    1801         76      66  \n",
       "melenchon            0     59      76       1031       1  \n",
       "poutou               4      3      66          1      81  "
      ]
     },
     "execution_count": 36,
     "metadata": {},
     "output_type": "execute_result"
    }
   ],
   "source": [
    "network=pd.DataFrame()\n",
    "for c in candidats:\n",
    "    t=tweets_mars.loc[tweets_mars[c] == 1]\n",
    "    t=t[['asselineau','arthaud','cheminade','dupontaignan','fillon','hamon','lassalle','lepen','macron','melenchon','poutou']]\n",
    "    somme=t.sum()\n",
    "    network[c]=somme\n",
    "network"
   ]
  },
  {
   "cell_type": "code",
   "execution_count": 93,
   "metadata": {
    "collapsed": false
   },
   "outputs": [
    {
     "data": {
      "text/plain": [
       "{'arthaud': <matplotlib.text.Text at 0x11a32fbe0>,\n",
       " 'asselineau': <matplotlib.text.Text at 0x11a321908>,\n",
       " 'cheminade': <matplotlib.text.Text at 0x11a3160f0>,\n",
       " 'dupontaignan': <matplotlib.text.Text at 0x11a3211d0>,\n",
       " 'fillon': <matplotlib.text.Text at 0x11a327518>,\n",
       " 'hamon': <matplotlib.text.Text at 0x11a32f0f0>,\n",
       " 'lassalle': <matplotlib.text.Text at 0x11a3279e8>,\n",
       " 'lepen': <matplotlib.text.Text at 0x11a31cac8>,\n",
       " 'macron': <matplotlib.text.Text at 0x11a321f98>,\n",
       " 'melenchon': <matplotlib.text.Text at 0x11a32f358>,\n",
       " 'poutou': <matplotlib.text.Text at 0x11a3332b0>}"
      ]
     },
     "execution_count": 93,
     "metadata": {},
     "output_type": "execute_result"
    },
    {
     "data": {
      "image/png": "[encoded data removed]",
      "text/plain": [
       "<matplotlib.figure.Figure at 0x11a189c50>"
      ]
     },
     "metadata": {},
     "output_type": "display_data"
    }
   ],
   "source": [
    "import networkx as nx\n",
    "\n",
    "candidats=['asselineau','arthaud','cheminade','dupontaignan','fillon','hamon','lassalle','lepen','macron','melenchon','poutou']\n",
    "\n",
    "G=nx.Graph()\n",
    "G.add_nodes_from(candidats)\n",
    "\n",
    "for i in range(0,11) :\n",
    "    for j in range((i+1),11):\n",
    "        c1=candidats[i]\n",
    "        c2=candidats[j]\n",
    "        w=network.iloc[i,j]/network.iloc[i].sum()\n",
    "        \n",
    "        if w>0:\n",
    "            G.add_edge(c1,c2,weight=w)\n",
    "\n",
    "elarge=[(u,v) for (u,v,d) in G.edges(data=True) if d['weight'] >0.1]\n",
    "esmall=[(u,v) for (u,v,d) in G.edges(data=True) if d['weight'] <=0.1]\n",
    "\n",
    "pos=nx.spring_layout(G) # positions for all nodes\n",
    "\n",
    "nx.draw_networkx_nodes(G,pos,node_size=400,node_color='#139BB4',node_shape='o',linewidths=0.3)\n",
    "\n",
    "nx.draw_networkx_edges(G,pos,edgelist=elarge,\n",
    "                    width=1)\n",
    "nx.draw_networkx_edges(G,pos,edgelist=esmall,\n",
    "                    width=1,alpha=0.5,style='dashed')\n",
    "\n",
    "nx.draw_networkx_labels(G,pos,font_size=9,font_family='sans-serif',font_weight='medium')"
   ]
  },
  {
   "cell_type": "markdown",
   "metadata": {
    "collapsed": true
   },
   "source": [
    "## Prédiction"
   ]
  },
  {
   "cell_type": "code",
   "execution_count": 102,
   "metadata": {
    "collapsed": false
   },
   "outputs": [],
   "source": [
    "from collections import Counter\n",
    "X_train = list(tweets_mars.apply(lambda x:Counter(x['text']), axis = 1))\n",
    "X_test = list(tweets_avril.apply(lambda x:Counter(x['text']), axis = 1))"
   ]
  },
  {
   "cell_type": "code",
   "execution_count": 103,
   "metadata": {
    "collapsed": false
   },
   "outputs": [
    {
     "data": {
      "text/plain": [
       "<16414x14914 sparse matrix of type '<class 'numpy.float64'>'\n",
       "\twith 185563 stored elements in Compressed Sparse Row format>"
      ]
     },
     "execution_count": 103,
     "metadata": {},
     "output_type": "execute_result"
    }
   ],
   "source": [
    "from sklearn.feature_extraction import DictVectorizer\n",
    "v = DictVectorizer(sparse=True)\n",
    "X_train = v.fit_transform(X_train)\n",
    "X_train"
   ]
  },
  {
   "cell_type": "code",
   "execution_count": 104,
   "metadata": {
    "collapsed": false
   },
   "outputs": [],
   "source": [
    "X_test = v.transform(X_test)"
   ]
  },
  {
   "cell_type": "code",
   "execution_count": 105,
   "metadata": {
    "collapsed": false
   },
   "outputs": [
    {
     "name": "stdout",
     "output_type": "stream",
     "text": [
      "(13877, 23)\n",
      "(16414, 22), (12310, 22), (4104, 22)\n"
     ]
    }
   ],
   "source": [
    "from sklearn import cross_validation\n",
    "\n",
    "train=tweets_mars.loc[tweets_mars['nb_candidat'] == 1]\n",
    "\n",
    "print(train.shape)\n",
    "\n",
    "train_target = tweets_mars.label\n",
    "train_data = tweets_mars.drop([\"label\"], axis=1)\n",
    "\n",
    "# Validation croisée\n",
    "X = train_data\n",
    "y = train_target\n",
    "\n",
    "X_train, X_test, y_train, y_test = cross_validation.train_test_split(X, y,\n",
    "                                        test_size=0.25, random_state=0)\n",
    "\n",
    "print(\"%r, %r, %r\" % (X.shape, X_train.shape, X_test.shape))"
   ]
  },
  {
   "cell_type": "code",
   "execution_count": 108,
   "metadata": {
    "collapsed": false
   },
   "outputs": [
    {
     "ename": "ValueError",
     "evalue": "could not convert string to float: ",
     "output_type": "error",
     "traceback": [
      "\u001b[0;31m---------------------------------------------------------------------------\u001b[0m",
      "\u001b[0;31mValueError\u001b[0m                                Traceback (most recent call last)",
      "\u001b[0;32m<ipython-input-108-314140e4a337>\u001b[0m in \u001b[0;36m<module>\u001b[0;34m()\u001b[0m\n\u001b[1;32m      2\u001b[0m \u001b[0;34m\u001b[0m\u001b[0m\n\u001b[1;32m      3\u001b[0m \u001b[0mlogistic\u001b[0m \u001b[0;34m=\u001b[0m \u001b[0mlinear_model\u001b[0m\u001b[0;34m.\u001b[0m\u001b[0mLogisticRegression\u001b[0m\u001b[0;34m(\u001b[0m\u001b[0;34m)\u001b[0m\u001b[0;34m\u001b[0m\u001b[0m\n\u001b[0;32m----> 4\u001b[0;31m \u001b[0mlogistic\u001b[0m\u001b[0;34m.\u001b[0m\u001b[0mfit\u001b[0m\u001b[0;34m(\u001b[0m\u001b[0mX_train\u001b[0m\u001b[0;34m,\u001b[0m \u001b[0my_train\u001b[0m\u001b[0;34m)\u001b[0m\u001b[0;34m\u001b[0m\u001b[0m\n\u001b[0m",
      "\u001b[0;32m/Users/saramounir/anaconda/lib/python3.5/site-packages/sklearn/linear_model/logistic.py\u001b[0m in \u001b[0;36mfit\u001b[0;34m(self, X, y, sample_weight)\u001b[0m\n\u001b[1;32m   1140\u001b[0m \u001b[0;34m\u001b[0m\u001b[0m\n\u001b[1;32m   1141\u001b[0m         X, y = check_X_y(X, y, accept_sparse='csr', dtype=np.float64, \n\u001b[0;32m-> 1142\u001b[0;31m                          order=\"C\")\n\u001b[0m\u001b[1;32m   1143\u001b[0m         \u001b[0mcheck_classification_targets\u001b[0m\u001b[0;34m(\u001b[0m\u001b[0my\u001b[0m\u001b[0;34m)\u001b[0m\u001b[0;34m\u001b[0m\u001b[0m\n\u001b[1;32m   1144\u001b[0m         \u001b[0mself\u001b[0m\u001b[0;34m.\u001b[0m\u001b[0mclasses_\u001b[0m \u001b[0;34m=\u001b[0m \u001b[0mnp\u001b[0m\u001b[0;34m.\u001b[0m\u001b[0munique\u001b[0m\u001b[0;34m(\u001b[0m\u001b[0my\u001b[0m\u001b[0;34m)\u001b[0m\u001b[0;34m\u001b[0m\u001b[0m\n",
      "\u001b[0;32m/Users/saramounir/anaconda/lib/python3.5/site-packages/sklearn/utils/validation.py\u001b[0m in \u001b[0;36mcheck_X_y\u001b[0;34m(X, y, accept_sparse, dtype, order, copy, force_all_finite, ensure_2d, allow_nd, multi_output, ensure_min_samples, ensure_min_features, y_numeric, warn_on_dtype, estimator)\u001b[0m\n\u001b[1;32m    508\u001b[0m     X = check_array(X, accept_sparse, dtype, order, copy, force_all_finite,\n\u001b[1;32m    509\u001b[0m                     \u001b[0mensure_2d\u001b[0m\u001b[0;34m,\u001b[0m \u001b[0mallow_nd\u001b[0m\u001b[0;34m,\u001b[0m \u001b[0mensure_min_samples\u001b[0m\u001b[0;34m,\u001b[0m\u001b[0;34m\u001b[0m\u001b[0m\n\u001b[0;32m--> 510\u001b[0;31m                     ensure_min_features, warn_on_dtype, estimator)\n\u001b[0m\u001b[1;32m    511\u001b[0m     \u001b[0;32mif\u001b[0m \u001b[0mmulti_output\u001b[0m\u001b[0;34m:\u001b[0m\u001b[0;34m\u001b[0m\u001b[0m\n\u001b[1;32m    512\u001b[0m         y = check_array(y, 'csr', force_all_finite=True, ensure_2d=False,\n",
      "\u001b[0;32m/Users/saramounir/anaconda/lib/python3.5/site-packages/sklearn/utils/validation.py\u001b[0m in \u001b[0;36mcheck_array\u001b[0;34m(array, accept_sparse, dtype, order, copy, force_all_finite, ensure_2d, allow_nd, ensure_min_samples, ensure_min_features, warn_on_dtype, estimator)\u001b[0m\n\u001b[1;32m    371\u001b[0m                                       force_all_finite)\n\u001b[1;32m    372\u001b[0m     \u001b[0;32melse\u001b[0m\u001b[0;34m:\u001b[0m\u001b[0;34m\u001b[0m\u001b[0m\n\u001b[0;32m--> 373\u001b[0;31m         \u001b[0marray\u001b[0m \u001b[0;34m=\u001b[0m \u001b[0mnp\u001b[0m\u001b[0;34m.\u001b[0m\u001b[0marray\u001b[0m\u001b[0;34m(\u001b[0m\u001b[0marray\u001b[0m\u001b[0;34m,\u001b[0m \u001b[0mdtype\u001b[0m\u001b[0;34m=\u001b[0m\u001b[0mdtype\u001b[0m\u001b[0;34m,\u001b[0m \u001b[0morder\u001b[0m\u001b[0;34m=\u001b[0m\u001b[0morder\u001b[0m\u001b[0;34m,\u001b[0m \u001b[0mcopy\u001b[0m\u001b[0;34m=\u001b[0m\u001b[0mcopy\u001b[0m\u001b[0;34m)\u001b[0m\u001b[0;34m\u001b[0m\u001b[0m\n\u001b[0m\u001b[1;32m    374\u001b[0m \u001b[0;34m\u001b[0m\u001b[0m\n\u001b[1;32m    375\u001b[0m         \u001b[0;32mif\u001b[0m \u001b[0mensure_2d\u001b[0m\u001b[0;34m:\u001b[0m\u001b[0;34m\u001b[0m\u001b[0m\n",
      "\u001b[0;31mValueError\u001b[0m: could not convert string to float: "
     ]
    }
   ],
   "source": [
    "from sklearn import linear_model\n",
    "\n",
    "logistic = linear_model.LogisticRegression()\n",
    "logistic.fit(X_train, y_train)"
   ]
  },
  {
   "cell_type": "code",
   "execution_count": null,
   "metadata": {
    "collapsed": false
   },
   "outputs": [],
   "source": [
    "# use the model to predict the labels of the test data\n",
    "y_pred = logistic.predict(X_test)"
   ]
  },
  {
   "cell_type": "code",
   "execution_count": null,
   "metadata": {
    "collapsed": true
   },
   "outputs": [],
   "source": [
    "print(metrics.confusion_matrix(y_test_reglog, y_pred))\n",
    "\n",
    "print(metrics.classification_report(y_test_reglog, y_pred))"
   ]
  },
  {
   "cell_type": "code",
   "execution_count": null,
   "metadata": {
    "collapsed": true
   },
   "outputs": [],
   "source": []
  },
  {
   "cell_type": "markdown",
   "metadata": {
    "collapsed": false
   },
   "source": [
    "## DF par mot"
   ]
  },
  {
   "cell_type": "code",
   "execution_count": null,
   "metadata": {
    "collapsed": false
   },
   "outputs": [],
   "source": [
    "final = pd.DataFrame(columns=['num_tweet','mot', 'nb_occurence'])\n",
    "for line in tweets.itertuples():\n",
    "    temp = [[line[0], x, y] for x, y in Counter(line[1]).items()]\n",
    "    final = final.append(pd.DataFrame(temp,columns=['num_tweet','mot', 'nb_occurence']) , ignore_index = True)"
   ]
  },
  {
   "cell_type": "code",
   "execution_count": null,
   "metadata": {
    "collapsed": false
   },
   "outputs": [],
   "source": [
    "print(final.head(30))"
   ]
  },
  {
   "cell_type": "code",
   "execution_count": null,
   "metadata": {
    "collapsed": false
   },
   "outputs": [],
   "source": []
  },
  {
   "cell_type": "code",
   "execution_count": null,
   "metadata": {
    "collapsed": true
   },
   "outputs": [],
   "source": []
  },
  {
   "cell_type": "code",
   "execution_count": null,
   "metadata": {
    "collapsed": false
   },
   "outputs": [],
   "source": [
    "print('asselineau : ',sum(tweets['asselineau'])/len(tweets_data)*100)\n",
    "print('arthaud : ',sum(tweets['arthaud'])/len(tweets_data)*100)\n",
    "print('cheminade : ',sum(tweets['cheminade'])/len(tweets_data)*100)\n",
    "print('dupontaignan : ',sum(tweets['dupontaignan'])/len(tweets_data)*100)\n",
    "print('fillon : ',sum(tweets['fillon'])/len(tweets_data)*100)\n",
    "print('hamon : ',sum(tweets['hamon'])/len(tweets_data)*100)\n",
    "print('lassalle : ',sum(tweets['lassalle'])/len(tweets_data)*100)\n",
    "print('lepen : ',sum(tweets['lepen'])/len(tweets_data)*100)\n",
    "print('macron : ',sum(tweets['macron'])/len(tweets_data)*100)\n",
    "print('melenchon : ',sum(tweets['melenchon'])/len(tweets_data)*100)\n",
    "print('poutou : ',sum(tweets['poutou'])/len(tweets_data)*100)"
   ]
  },
  {
   "cell_type": "code",
   "execution_count": null,
   "metadata": {
    "collapsed": false
   },
   "outputs": [],
   "source": []
  },
  {
   "cell_type": "code",
   "execution_count": null,
   "metadata": {
    "collapsed": false
   },
   "outputs": [],
   "source": []
  },
  {
   "cell_type": "code",
   "execution_count": null,
   "metadata": {
    "collapsed": false
   },
   "outputs": [],
   "source": []
  },
  {
   "cell_type": "code",
   "execution_count": null,
   "metadata": {
    "collapsed": false
   },
   "outputs": [],
   "source": []
  },
  {
   "cell_type": "code",
   "execution_count": null,
   "metadata": {
    "collapsed": false
   },
   "outputs": [],
   "source": []
  },
  {
   "cell_type": "code",
   "execution_count": null,
   "metadata": {
    "collapsed": false
   },
   "outputs": [],
   "source": []
  },
  {
   "cell_type": "code",
   "execution_count": null,
   "metadata": {
    "collapsed": false
   },
   "outputs": [],
   "source": []
  },
  {
   "cell_type": "code",
   "execution_count": null,
   "metadata": {
    "collapsed": false
   },
   "outputs": [],
   "source": []
  },
  {
   "cell_type": "code",
   "execution_count": null,
   "metadata": {
    "collapsed": false
   },
   "outputs": [],
   "source": []
  },
  {
   "cell_type": "code",
   "execution_count": null,
   "metadata": {
    "collapsed": false
   },
   "outputs": [],
   "source": [
    "\n",
    "tweets_by_country = tweets['country'].value_counts()\n",
    "\n",
    "fig, ax = plt.subplots()\n",
    "ax.tick_params(axis='x', labelsize=15)\n",
    "ax.tick_params(axis='y', labelsize=10)\n",
    "ax.set_xlabel('Countries', fontsize=15)\n",
    "ax.set_ylabel('Number of tweets' , fontsize=15)\n",
    "ax.set_title('Top 5 countries', fontsize=15, fontweight='bold')\n",
    "tweets_by_country[:5].plot(ax=ax, kind='bar', color='blue')"
   ]
  },
  {
   "cell_type": "code",
   "execution_count": null,
   "metadata": {
    "collapsed": false
   },
   "outputs": [],
   "source": [
    "tweets_by_lang = tweets['lang'].value_counts()\n",
    "\n",
    "fig, ax = plt.subplots()\n",
    "ax.tick_params(axis='x', labelsize=15)\n",
    "ax.tick_params(axis='y', labelsize=10)\n",
    "ax.set_xlabel('Languages', fontsize=15)\n",
    "ax.set_ylabel('Number of tweets' , fontsize=15)\n",
    "ax.set_title('Top 5 languages', fontsize=15, fontweight='bold')\n",
    "tweets_by_lang[:5].plot(ax=ax, kind='bar', color='red')"
   ]
  },
  {
   "cell_type": "code",
   "execution_count": null,
   "metadata": {
    "collapsed": true
   },
   "outputs": [],
   "source": []
  },
  {
   "cell_type": "code",
   "execution_count": null,
   "metadata": {
    "collapsed": true
   },
   "outputs": [],
   "source": []
  },
  {
   "cell_type": "code",
   "execution_count": null,
   "metadata": {
    "collapsed": true
   },
   "outputs": [],
   "source": []
  },
  {
   "cell_type": "code",
   "execution_count": null,
   "metadata": {
    "collapsed": true
   },
   "outputs": [],
   "source": []
  },
  {
   "cell_type": "code",
   "execution_count": null,
   "metadata": {
    "collapsed": true
   },
   "outputs": [],
   "source": []
  },
  {
   "cell_type": "code",
   "execution_count": null,
   "metadata": {
    "collapsed": true
   },
   "outputs": [],
   "source": []
  },
  {
   "cell_type": "code",
   "execution_count": null,
   "metadata": {
    "collapsed": true
   },
   "outputs": [],
   "source": []
  },
  {
   "cell_type": "code",
   "execution_count": null,
   "metadata": {
    "collapsed": true
   },
   "outputs": [],
   "source": []
  },
  {
   "cell_type": "code",
   "execution_count": null,
   "metadata": {
    "collapsed": true
   },
   "outputs": [],
   "source": []
  },
  {
   "cell_type": "code",
   "execution_count": null,
   "metadata": {
    "collapsed": true
   },
   "outputs": [],
   "source": []
  },
  {
   "cell_type": "code",
   "execution_count": null,
   "metadata": {
    "collapsed": false
   },
   "outputs": [],
   "source": []
  },
  {
   "cell_type": "code",
   "execution_count": null,
   "metadata": {
    "collapsed": true
   },
   "outputs": [],
   "source": []
  },
  {
   "cell_type": "code",
   "execution_count": null,
   "metadata": {
    "collapsed": false
   },
   "outputs": [],
   "source": [
    "#tweets=tweets[0:500]\n",
    "#tweets.to_csv(\"/Users/saramounir/Desktop/tweets_23avril_avant.csv\",sep=';')\n",
    "listei=[26,69,84,135,140,146,186,191,283,292,295,319,340,413,451,468,479,553,570,596,619,634,666,734,775,776,831,888,893,961,1011,1022,1033,1057,1092,1096,1149,1180,1207,1209,1219,1241,1244,1256,1336,1338,1364,1366,1392,1418,1422,1464,1558,1597,1624,1659,1700,1723,1757,1782,1817,1883,1906,1912,1961,2015,2051,2052,2123,2129,2182,2208,2218,2263,2275,2301,2345,2384,2425,2453,2456,2476,2507,2524,2531,2609,2610,2632,2633,2641,2645,2692,2707,2708,2730,2743,2756,2789,2794,2813,2820,2832,2851,2902,2933,2979,2989,3001,3021,3044,3060,3107,3119,3133,3180,3193,3203,3227,3230,3251,3254,3267,3312,3352,3373,3387,3405,3415,3448,3515,3517,3538,3576,3580,3624,3723,3802,3812,3814,3815,3819,3852,3871,3909,3910,3922,3924,3939,3963,3986,3991,4005,4030,4041,4058,4092,4124,4129,4148,4220,4232,4238,4292,4360,4386,4400,4442,4449,4505,4538,4648,4716,4736,4743,4747,4754,4784,4808,4854,4859,4862,4904,4937,4990,5036,5051,5054,5236,5240,5268,5282,5285,5288,5304,5348,5380,5422,5476,5482,5483,5514,5526,5563,5612,5676,5845,5854,5879,5883,5886,5905,5939,6000,6023,6055,6064,6092,6104,6148,6179,6250,6272,6289,6318,6335,6337,6354,6371,6382,6403,6406,6423,6426,6434,6459,6520,6537,6538,6541,6603,6618,6622,6624,6662,6664,6685,6723,6774,6779,6790,6799,6814,6825,6863,6872,6935,6959,6982,6986,7007,7048,7058,7075,7113,7119,7132,7167,7179,7185,7196,7236,7266,7294,7297,7299,7346,7348,7349,7369,7420,7441,7447,7453,7461,7471,7492,7516,7525,7565,7575,7580,7601,7608,7636,7676,7699,7733,7739,7808,7809,7855,7888,7933,7951,7990,8002,8035,8097,8111,8142,8207,8248,8270,8310,8330,8397,8416,8417,8422,8447,8483,8487,8501,8503,8512,8567,8590,8599,8632,8695,8718,8724,8733,8735,8747,8751,8757,8778,8795,8796,8806,8807,8848,8852,8870,8891,8920,8926,8928,8971,8991,9028,9052,9079,9106,9172,9186,9276,9301,9317,9360,9362,9393,9394,9418,9438,9453,9484,9519,9549,9569,9607,9667,9701,9839,9859,9860,9867,9902,10016,10021,10024,10043,10055,10062,10064,10069,10130,10151,10211,10229,10249,10263,10354,10357,10374,10402,10411,10426,10428,10532,10563,10586,10592,10605,10617,10628,10634,10673,10745,10783,10787,10876,10912,10965,10982,10983,10986,11062,11082,11105,11133,11162,11183,11187,11215,11380,11383,11409,11516,11521,11540,11548,11583,11600,11674,11676,11731,11859,11873,11877,11907,12021,12065,12145,12257,12267,12269,12286,12368,12381,12459,12485,12530,12590,12602,12605,12612,12615,12646,12670,12700,12719,12750,12775,12810,12842,12844,12901,12917,12952,12986,13106,13126,13135,13140,13202,13330,13339,13380,13389,13491,13552,13655,13687,13696,13717,13761,13762,13775,13785,13829,13851,13906,13915,13945,13953,13959,13960,13977,14048,14105,14114,14117,14139,14141,14195,14242,14245,14272,14316,14324,14329,14343,14371,14378,14380,14404,14419,14427,14434,14452,14577,14584,14668,14679,14703,14720,14726,14791,14822,14858,14959,14969,15028,15032,15034,15045,15086,15095,15208,15220,15276,15314,15330,15349,15374,15375,15435,15478,15481,15494,15564,15571,15601,15659,15680,15749,15753,15774,15779,15828,15871,15973,16008,16059,16060,16183,16223,16248,16255,16259,16269,16327,16340,16352]\n",
    "\n",
    "\n",
    "\n",
    "for i in listei:\n",
    "    print(i,' : ',tweets['text'][i],'\\n')"
   ]
  }
 ],
 "metadata": {
  "anaconda-cloud": {},
  "kernelspec": {
   "display_name": "Python [conda root]",
   "language": "python",
   "name": "conda-root-py"
  },
  "language_info": {
   "codemirror_mode": {
    "name": "ipython",
    "version": 3
   },
   "file_extension": ".py",
   "mimetype": "text/x-python",
   "name": "python",
   "nbconvert_exporter": "python",
   "pygments_lexer": "ipython3",
   "version": "3.5.2"
  }
 },
 "nbformat": 4,
 "nbformat_minor": 1
}
